{
 "cells": [
  {
   "cell_type": "markdown",
   "id": "c519fcb5",
   "metadata": {},
   "source": [
    "### Database son"
   ]
  },
  {
   "cell_type": "code",
   "execution_count": 1,
   "id": "f47ecb15",
   "metadata": {},
   "outputs": [],
   "source": [
    "import sqlite3\n",
    "import sys\n",
    "\n",
    "sys.path.append(\"..\")\n",
    "\n",
    "import src.scraper as scraper"
   ]
  },
  {
   "cell_type": "code",
   "execution_count": 2,
   "id": "fcb96c2b",
   "metadata": {},
   "outputs": [
    {
     "name": "stdout",
     "output_type": "stream",
     "text": [
      "TWCCHI\n",
      "should already be fahrenheit\n",
      "TWCCHI\n",
      "TWCNYC\n",
      "AccuweatherNYC\n",
      "AccuweatherCHI\n",
      "AccuweatherCHI\n",
      "NWSNYC\n",
      "NWSCHI\n",
      "forecaNYC\n",
      "forecaCHI\n"
     ]
    }
   ],
   "source": [
    "to_write2 = scraper.scrape_websites()"
   ]
  },
  {
   "cell_type": "code",
   "execution_count": 3,
   "id": "6f0cf9c6",
   "metadata": {},
   "outputs": [
    {
     "data": {
      "text/plain": [
       "[['CHI',\n",
       "  '2022-11-05 21:35:48.325515',\n",
       "  '2022-11-04 21:35:48.325511',\n",
       "  'TWC',\n",
       "  '65'],\n",
       " ['NYC',\n",
       "  '2022-11-05 21:35:48.325515',\n",
       "  '2022-11-04 21:35:48.325511',\n",
       "  'TWC',\n",
       "  '73'],\n",
       " ['NYC',\n",
       "  '2022-11-05 21:35:48.325515',\n",
       "  '2022-11-04 21:35:48.325511',\n",
       "  'Accuweather',\n",
       "  '74'],\n",
       " ['CHI',\n",
       "  '2022-11-05 21:35:48.325515',\n",
       "  '2022-11-04 21:35:48.325511',\n",
       "  'Accuweather',\n",
       "  '63'],\n",
       " ['NYC',\n",
       "  '2022-11-05 21:35:48.325515',\n",
       "  '2022-11-04 21:35:48.325511',\n",
       "  'NWS',\n",
       "  '72'],\n",
       " ['CHI',\n",
       "  '2022-11-05 21:35:48.325515',\n",
       "  '2022-11-04 21:35:48.325511',\n",
       "  'NWS',\n",
       "  '61'],\n",
       " ['NYC',\n",
       "  '2022-11-05 21:35:48.325515',\n",
       "  '2022-11-04 21:35:48.325511',\n",
       "  'foreca',\n",
       "  '72'],\n",
       " ['CHI',\n",
       "  '2022-11-05 21:35:48.325515',\n",
       "  '2022-11-04 21:35:48.325511',\n",
       "  'foreca',\n",
       "  '66']]"
      ]
     },
     "execution_count": 3,
     "metadata": {},
     "output_type": "execute_result"
    }
   ],
   "source": [
    "to_write2"
   ]
  },
  {
   "cell_type": "code",
   "execution_count": 4,
   "id": "9b192bb0",
   "metadata": {},
   "outputs": [],
   "source": [
    "conn = sqlite3.connect('../data/data.db')\n",
    "cursor = conn.cursor()"
   ]
  },
  {
   "cell_type": "code",
   "execution_count": 5,
   "id": "01ae52e8",
   "metadata": {},
   "outputs": [
    {
     "data": {
      "text/plain": [
       "<sqlite3.Cursor at 0x7ff080140420>"
      ]
     },
     "execution_count": 5,
     "metadata": {},
     "output_type": "execute_result"
    }
   ],
   "source": [
    "cursor.execute(\"\"\"CREATE TABLE IF NOT EXISTS forecasts\n",
    "    (ID INT PRIMARY KEY,\n",
    "    CITY TEXT NOT NULL,\n",
    "    FORECAST_DATE TEXT NOT NULL,\n",
    "    TIME_OF_FORECAST TEXT NOT NULL,\n",
    "    PLATFORM TEXT NOT NULL,\n",
    "    TEMPERATURE INTEGER NOT NULL);\"\"\")"
   ]
  },
  {
   "cell_type": "code",
   "execution_count": 6,
   "id": "f5e74b40",
   "metadata": {},
   "outputs": [],
   "source": [
    "insert_query = \"\"\"INSERT INTO forecasts\n",
    "               (CITY, FORECAST_DATE, TIME_OF_FORECAST, PLATFORM, TEMPERATURE)\n",
    "               VALUES (?, ?, ?, ?, ?)\"\"\""
   ]
  },
  {
   "cell_type": "code",
   "execution_count": 7,
   "id": "52b2f093",
   "metadata": {},
   "outputs": [
    {
     "data": {
      "text/plain": [
       "<sqlite3.Cursor at 0x7ff080140420>"
      ]
     },
     "execution_count": 7,
     "metadata": {},
     "output_type": "execute_result"
    }
   ],
   "source": [
    "cursor.executemany(insert_query, to_write2)"
   ]
  },
  {
   "cell_type": "code",
   "execution_count": 8,
   "id": "b5ca4dcb",
   "metadata": {},
   "outputs": [],
   "source": [
    "conn.commit()"
   ]
  },
  {
   "cell_type": "code",
   "execution_count": 9,
   "id": "830b40a3",
   "metadata": {},
   "outputs": [],
   "source": [
    "conn.close()"
   ]
  }
 ],
 "metadata": {
  "kernelspec": {
   "display_name": "Python (weather)",
   "language": "python",
   "name": "weather"
  },
  "language_info": {
   "codemirror_mode": {
    "name": "ipython",
    "version": 3
   },
   "file_extension": ".py",
   "mimetype": "text/x-python",
   "name": "python",
   "nbconvert_exporter": "python",
   "pygments_lexer": "ipython3",
   "version": "3.8.10"
  }
 },
 "nbformat": 4,
 "nbformat_minor": 5
}
