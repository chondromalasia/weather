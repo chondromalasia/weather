{
 "cells": [
  {
   "cell_type": "markdown",
   "id": "7cc128a2",
   "metadata": {},
   "source": [
    "# Just need to redo this"
   ]
  },
  {
   "cell_type": "code",
   "execution_count": 24,
   "id": "c423ef09",
   "metadata": {},
   "outputs": [],
   "source": [
    "import requests\n",
    "import datetime\n",
    "import dateutil.parser as DP"
   ]
  },
  {
   "cell_type": "code",
   "execution_count": 1,
   "id": "0aacbde6",
   "metadata": {},
   "outputs": [],
   "source": [
    "base_url = \"https://api.weather.gov/points/{latitude},{longitude}\""
   ]
  },
  {
   "cell_type": "markdown",
   "id": "786cc2d8",
   "metadata": {},
   "source": [
    "midway\n",
    "    \n",
    "lat    41.7841\n",
    "lon    -87.7551\n",
    "\n",
    "central park:\n",
    "lat: 40.7790\n",
    "lon: -73.9692"
   ]
  },
  {
   "cell_type": "code",
   "execution_count": 2,
   "id": "2907de02",
   "metadata": {},
   "outputs": [],
   "source": [
    "locs = {\n",
    "    \"central_park\":\n",
    "        {\"lat\":40.7823,\n",
    "         \"lon\":-87.7421}\n",
    "}"
   ]
  },
  {
   "cell_type": "code",
   "execution_count": 6,
   "id": "a0f88d79",
   "metadata": {},
   "outputs": [],
   "source": [
    "locs = {\n",
    "    \"central_park\":\n",
    "        {\"lat\":40.7790,\n",
    "         \"lon\":-73.9692}\n",
    "}"
   ]
  },
  {
   "cell_type": "code",
   "execution_count": 3,
   "id": "b7baedef",
   "metadata": {},
   "outputs": [
    {
     "data": {
      "text/plain": [
       "{'central_park': {'latitude': 40.7823, 'longitude': -87.7421}}"
      ]
     },
     "execution_count": 3,
     "metadata": {},
     "output_type": "execute_result"
    }
   ],
   "source": [
    "locs"
   ]
  },
  {
   "cell_type": "markdown",
   "id": "74a395ff",
   "metadata": {},
   "source": [
    "# see whether it's the right place"
   ]
  },
  {
   "cell_type": "code",
   "execution_count": 7,
   "id": "d608af88",
   "metadata": {},
   "outputs": [],
   "source": [
    "lon = locs[\"central_park\"][\"lon\"]\n",
    "lat = locs[\"central_park\"][\"lat\"]"
   ]
  },
  {
   "cell_type": "code",
   "execution_count": 8,
   "id": "2e7f0494",
   "metadata": {},
   "outputs": [
    {
     "data": {
      "text/plain": [
       "'https://api.weather.gov/points/40.779,-73.9692'"
      ]
     },
     "execution_count": 8,
     "metadata": {},
     "output_type": "execute_result"
    }
   ],
   "source": [
    "points = f'https://api.weather.gov/points/{lat},{lon}'\n",
    "points"
   ]
  },
  {
   "cell_type": "code",
   "execution_count": 9,
   "id": "93406b73",
   "metadata": {},
   "outputs": [
    {
     "data": {
      "text/plain": [
       "<Response [200]>"
      ]
     },
     "execution_count": 9,
     "metadata": {},
     "output_type": "execute_result"
    }
   ],
   "source": [
    "r = requests.get(points)\n",
    "r"
   ]
  },
  {
   "cell_type": "code",
   "execution_count": 12,
   "id": "50a0c12a",
   "metadata": {},
   "outputs": [],
   "source": [
    "forecast_url = r.json()[\"properties\"][\"forecast\"]"
   ]
  },
  {
   "cell_type": "code",
   "execution_count": 13,
   "id": "12285cdb",
   "metadata": {},
   "outputs": [],
   "source": [
    "r = requests.get(forecast_url)"
   ]
  },
  {
   "cell_type": "code",
   "execution_count": 14,
   "id": "07b405e5",
   "metadata": {},
   "outputs": [
    {
     "data": {
      "text/plain": [
       "<Response [200]>"
      ]
     },
     "execution_count": 14,
     "metadata": {},
     "output_type": "execute_result"
    }
   ],
   "source": [
    "r"
   ]
  },
  {
   "cell_type": "code",
   "execution_count": 16,
   "id": "cdbab86c",
   "metadata": {},
   "outputs": [],
   "source": [
    "forecast = r.json()"
   ]
  },
  {
   "cell_type": "code",
   "execution_count": 35,
   "id": "af4e7e49",
   "metadata": {},
   "outputs": [
    {
     "data": {
      "text/plain": [
       "[{'number': 1,\n",
       "  'name': 'Thanksgiving Day',\n",
       "  'startTime': '2022-11-24T14:00:00-05:00',\n",
       "  'endTime': '2022-11-24T18:00:00-05:00',\n",
       "  'isDaytime': True,\n",
       "  'temperature': 53,\n",
       "  'temperatureUnit': 'F',\n",
       "  'temperatureTrend': None,\n",
       "  'windSpeed': '5 mph',\n",
       "  'windDirection': 'SW',\n",
       "  'icon': 'https://api.weather.gov/icons/land/day/few?size=medium',\n",
       "  'shortForecast': 'Sunny',\n",
       "  'detailedForecast': 'Sunny, with a high near 53. Southwest wind around 5 mph.'},\n",
       " {'number': 2,\n",
       "  'name': 'Tonight',\n",
       "  'startTime': '2022-11-24T18:00:00-05:00',\n",
       "  'endTime': '2022-11-25T06:00:00-05:00',\n",
       "  'isDaytime': False,\n",
       "  'temperature': 47,\n",
       "  'temperatureUnit': 'F',\n",
       "  'temperatureTrend': None,\n",
       "  'windSpeed': '5 mph',\n",
       "  'windDirection': 'SW',\n",
       "  'icon': 'https://api.weather.gov/icons/land/night/bkn?size=medium',\n",
       "  'shortForecast': 'Mostly Cloudy',\n",
       "  'detailedForecast': 'Mostly cloudy, with a low around 47. Southwest wind around 5 mph.'},\n",
       " {'number': 3,\n",
       "  'name': 'Friday',\n",
       "  'startTime': '2022-11-25T06:00:00-05:00',\n",
       "  'endTime': '2022-11-25T18:00:00-05:00',\n",
       "  'isDaytime': True,\n",
       "  'temperature': 51,\n",
       "  'temperatureUnit': 'F',\n",
       "  'temperatureTrend': 'falling',\n",
       "  'windSpeed': '6 to 10 mph',\n",
       "  'windDirection': 'W',\n",
       "  'icon': 'https://api.weather.gov/icons/land/day/rain_showers,70?size=medium',\n",
       "  'shortForecast': 'Rain Showers Likely',\n",
       "  'detailedForecast': 'Rain showers likely after 7am. Mostly cloudy. High near 51, with temperatures falling to around 49 in the afternoon. West wind 6 to 10 mph, with gusts as high as 22 mph. Chance of precipitation is 70%. New rainfall amounts less than a tenth of an inch possible.'},\n",
       " {'number': 4,\n",
       "  'name': 'Friday Night',\n",
       "  'startTime': '2022-11-25T18:00:00-05:00',\n",
       "  'endTime': '2022-11-26T06:00:00-05:00',\n",
       "  'isDaytime': False,\n",
       "  'temperature': 39,\n",
       "  'temperatureUnit': 'F',\n",
       "  'temperatureTrend': None,\n",
       "  'windSpeed': '9 to 13 mph',\n",
       "  'windDirection': 'NW',\n",
       "  'icon': 'https://api.weather.gov/icons/land/night/rain_showers,20/few?size=medium',\n",
       "  'shortForecast': 'Slight Chance Rain Showers then Mostly Clear',\n",
       "  'detailedForecast': 'A slight chance of rain showers before 7pm. Mostly clear, with a low around 39. Northwest wind 9 to 13 mph, with gusts as high as 24 mph. Chance of precipitation is 20%.'},\n",
       " {'number': 5,\n",
       "  'name': 'Saturday',\n",
       "  'startTime': '2022-11-26T06:00:00-05:00',\n",
       "  'endTime': '2022-11-26T18:00:00-05:00',\n",
       "  'isDaytime': True,\n",
       "  'temperature': 52,\n",
       "  'temperatureUnit': 'F',\n",
       "  'temperatureTrend': 'falling',\n",
       "  'windSpeed': '6 to 9 mph',\n",
       "  'windDirection': 'W',\n",
       "  'icon': 'https://api.weather.gov/icons/land/day/skc?size=medium',\n",
       "  'shortForecast': 'Sunny',\n",
       "  'detailedForecast': 'Sunny. High near 52, with temperatures falling to around 49 in the afternoon. West wind 6 to 9 mph, with gusts as high as 21 mph.'},\n",
       " {'number': 6,\n",
       "  'name': 'Saturday Night',\n",
       "  'startTime': '2022-11-26T18:00:00-05:00',\n",
       "  'endTime': '2022-11-27T06:00:00-05:00',\n",
       "  'isDaytime': False,\n",
       "  'temperature': 41,\n",
       "  'temperatureUnit': 'F',\n",
       "  'temperatureTrend': None,\n",
       "  'windSpeed': '5 mph',\n",
       "  'windDirection': 'W',\n",
       "  'icon': 'https://api.weather.gov/icons/land/night/sct?size=medium',\n",
       "  'shortForecast': 'Partly Cloudy',\n",
       "  'detailedForecast': 'Partly cloudy, with a low around 41.'},\n",
       " {'number': 7,\n",
       "  'name': 'Sunday',\n",
       "  'startTime': '2022-11-27T06:00:00-05:00',\n",
       "  'endTime': '2022-11-27T18:00:00-05:00',\n",
       "  'isDaytime': True,\n",
       "  'temperature': 55,\n",
       "  'temperatureUnit': 'F',\n",
       "  'temperatureTrend': None,\n",
       "  'windSpeed': '5 to 10 mph',\n",
       "  'windDirection': 'SW',\n",
       "  'icon': 'https://api.weather.gov/icons/land/day/rain_showers/rain_showers,60?size=medium',\n",
       "  'shortForecast': 'Rain Showers Likely',\n",
       "  'detailedForecast': 'Rain showers likely after 7am. Mostly cloudy, with a high near 55. Chance of precipitation is 60%.'},\n",
       " {'number': 8,\n",
       "  'name': 'Sunday Night',\n",
       "  'startTime': '2022-11-27T18:00:00-05:00',\n",
       "  'endTime': '2022-11-28T06:00:00-05:00',\n",
       "  'isDaytime': False,\n",
       "  'temperature': 48,\n",
       "  'temperatureUnit': 'F',\n",
       "  'temperatureTrend': None,\n",
       "  'windSpeed': '10 mph',\n",
       "  'windDirection': 'W',\n",
       "  'icon': 'https://api.weather.gov/icons/land/night/rain_showers,60/rain_showers,40?size=medium',\n",
       "  'shortForecast': 'Rain Showers Likely',\n",
       "  'detailedForecast': 'Rain showers likely before 1am. Mostly cloudy, with a low around 48. Chance of precipitation is 60%.'},\n",
       " {'number': 9,\n",
       "  'name': 'Monday',\n",
       "  'startTime': '2022-11-28T06:00:00-05:00',\n",
       "  'endTime': '2022-11-28T18:00:00-05:00',\n",
       "  'isDaytime': True,\n",
       "  'temperature': 54,\n",
       "  'temperatureUnit': 'F',\n",
       "  'temperatureTrend': None,\n",
       "  'windSpeed': '9 mph',\n",
       "  'windDirection': 'W',\n",
       "  'icon': 'https://api.weather.gov/icons/land/day/sct?size=medium',\n",
       "  'shortForecast': 'Mostly Sunny',\n",
       "  'detailedForecast': 'Mostly sunny, with a high near 54.'},\n",
       " {'number': 10,\n",
       "  'name': 'Monday Night',\n",
       "  'startTime': '2022-11-28T18:00:00-05:00',\n",
       "  'endTime': '2022-11-29T06:00:00-05:00',\n",
       "  'isDaytime': False,\n",
       "  'temperature': 38,\n",
       "  'temperatureUnit': 'F',\n",
       "  'temperatureTrend': None,\n",
       "  'windSpeed': '3 to 8 mph',\n",
       "  'windDirection': 'NW',\n",
       "  'icon': 'https://api.weather.gov/icons/land/night/few?size=medium',\n",
       "  'shortForecast': 'Mostly Clear',\n",
       "  'detailedForecast': 'Mostly clear, with a low around 38.'},\n",
       " {'number': 11,\n",
       "  'name': 'Tuesday',\n",
       "  'startTime': '2022-11-29T06:00:00-05:00',\n",
       "  'endTime': '2022-11-29T18:00:00-05:00',\n",
       "  'isDaytime': True,\n",
       "  'temperature': 48,\n",
       "  'temperatureUnit': 'F',\n",
       "  'temperatureTrend': None,\n",
       "  'windSpeed': '5 mph',\n",
       "  'windDirection': 'W',\n",
       "  'icon': 'https://api.weather.gov/icons/land/day/sct?size=medium',\n",
       "  'shortForecast': 'Mostly Sunny',\n",
       "  'detailedForecast': 'Mostly sunny, with a high near 48.'},\n",
       " {'number': 12,\n",
       "  'name': 'Tuesday Night',\n",
       "  'startTime': '2022-11-29T18:00:00-05:00',\n",
       "  'endTime': '2022-11-30T06:00:00-05:00',\n",
       "  'isDaytime': False,\n",
       "  'temperature': 41,\n",
       "  'temperatureUnit': 'F',\n",
       "  'temperatureTrend': None,\n",
       "  'windSpeed': '3 mph',\n",
       "  'windDirection': 'S',\n",
       "  'icon': 'https://api.weather.gov/icons/land/night/bkn?size=medium',\n",
       "  'shortForecast': 'Mostly Cloudy',\n",
       "  'detailedForecast': 'Mostly cloudy, with a low around 41.'},\n",
       " {'number': 13,\n",
       "  'name': 'Wednesday',\n",
       "  'startTime': '2022-11-30T06:00:00-05:00',\n",
       "  'endTime': '2022-11-30T18:00:00-05:00',\n",
       "  'isDaytime': True,\n",
       "  'temperature': 56,\n",
       "  'temperatureUnit': 'F',\n",
       "  'temperatureTrend': None,\n",
       "  'windSpeed': '3 to 7 mph',\n",
       "  'windDirection': 'S',\n",
       "  'icon': 'https://api.weather.gov/icons/land/day/rain_showers/rain_showers,40?size=medium',\n",
       "  'shortForecast': 'Chance Rain Showers',\n",
       "  'detailedForecast': 'A chance of rain showers after 7am. Mostly cloudy, with a high near 56. Chance of precipitation is 40%.'},\n",
       " {'number': 14,\n",
       "  'name': 'Wednesday Night',\n",
       "  'startTime': '2022-11-30T18:00:00-05:00',\n",
       "  'endTime': '2022-12-01T06:00:00-05:00',\n",
       "  'isDaytime': False,\n",
       "  'temperature': 45,\n",
       "  'temperatureUnit': 'F',\n",
       "  'temperatureTrend': None,\n",
       "  'windSpeed': '7 to 10 mph',\n",
       "  'windDirection': 'SW',\n",
       "  'icon': 'https://api.weather.gov/icons/land/night/rain_showers,50?size=medium',\n",
       "  'shortForecast': 'Chance Rain Showers',\n",
       "  'detailedForecast': 'A chance of rain showers. Mostly cloudy, with a low around 45. Chance of precipitation is 50%.'}]"
      ]
     },
     "execution_count": 35,
     "metadata": {},
     "output_type": "execute_result"
    }
   ],
   "source": [
    "forecasts = forecast[\"properties\"][\"periods\"]\n",
    "forecasts"
   ]
  },
  {
   "cell_type": "markdown",
   "id": "6c0be90e",
   "metadata": {},
   "source": [
    "### Okay here is sort of the issue I see\n",
    "\n",
    "We have to sort of assume that this will be run the day before. Otherwise it's going to be a pain."
   ]
  },
  {
   "cell_type": "markdown",
   "id": "3563f4f3",
   "metadata": {},
   "source": [
    "### Okay we need to get noon tomorrow"
   ]
  },
  {
   "cell_type": "code",
   "execution_count": 26,
   "id": "e92294a0",
   "metadata": {},
   "outputs": [
    {
     "data": {
      "text/plain": [
       "datetime.datetime(2022, 11, 24, 20, 43, 27, 326533)"
      ]
     },
     "execution_count": 26,
     "metadata": {},
     "output_type": "execute_result"
    }
   ],
   "source": [
    "today = datetime.datetime.today()\n",
    "today"
   ]
  },
  {
   "cell_type": "code",
   "execution_count": 28,
   "id": "d946a842",
   "metadata": {},
   "outputs": [
    {
     "data": {
      "text/plain": [
       "datetime.datetime(2022, 11, 25, 20, 43, 27, 326533)"
      ]
     },
     "execution_count": 28,
     "metadata": {},
     "output_type": "execute_result"
    }
   ],
   "source": [
    "tomorrow = today + datetime.timedelta(days=1)\n",
    "tomorrow"
   ]
  },
  {
   "cell_type": "code",
   "execution_count": 34,
   "id": "eb6912c0",
   "metadata": {},
   "outputs": [
    {
     "data": {
      "text/plain": [
       "datetime.datetime(2022, 11, 25, 12, 43, 27, 326533)"
      ]
     },
     "execution_count": 34,
     "metadata": {},
     "output_type": "execute_result"
    }
   ],
   "source": [
    "tomorrow_noon = tomorrow.replace(hour=12)\n",
    "tomorrow_noon"
   ]
  },
  {
   "cell_type": "code",
   "execution_count": 45,
   "id": "c80bbf71",
   "metadata": {},
   "outputs": [
    {
     "data": {
      "text/plain": [
       "1669376607.326533"
      ]
     },
     "execution_count": 45,
     "metadata": {},
     "output_type": "execute_result"
    }
   ],
   "source": [
    "tomorrow_noon.timestamp()"
   ]
  },
  {
   "cell_type": "markdown",
   "id": "4c2a4bef",
   "metadata": {},
   "source": [
    "### Get datetime from whatever"
   ]
  },
  {
   "cell_type": "code",
   "execution_count": 38,
   "id": "872701e8",
   "metadata": {},
   "outputs": [
    {
     "data": {
      "text/plain": [
       "'2022-11-24T14:00:00-05:00'"
      ]
     },
     "execution_count": 38,
     "metadata": {},
     "output_type": "execute_result"
    }
   ],
   "source": [
    "start = forecasts[0][\"startTime\"]\n",
    "start"
   ]
  },
  {
   "cell_type": "code",
   "execution_count": 41,
   "id": "cd0191bf",
   "metadata": {},
   "outputs": [
    {
     "data": {
      "text/plain": [
       "'2022-11-24T18:00:00-05:00'"
      ]
     },
     "execution_count": 41,
     "metadata": {},
     "output_type": "execute_result"
    }
   ],
   "source": [
    "finish = forecasts[0][\"endTime\"]\n",
    "finish"
   ]
  },
  {
   "cell_type": "code",
   "execution_count": 48,
   "id": "6b746f7a",
   "metadata": {},
   "outputs": [
    {
     "data": {
      "text/plain": [
       "False"
      ]
     },
     "execution_count": 48,
     "metadata": {},
     "output_type": "execute_result"
    }
   ],
   "source": [
    "def between_times(measure, start, end):\n",
    "    start = DP.parse(start).timestamp()\n",
    "    end = DP.parse(end).timestamp()\n",
    "    \n",
    "    if start < measure.timestamp() and end > measure.timestamp():\n",
    "        return True\n",
    "    else:\n",
    "        return False\n",
    "    \n",
    "between_times(tomorrow_noon, start, finish)"
   ]
  },
  {
   "cell_type": "code",
   "execution_count": 52,
   "id": "b1cb87ca",
   "metadata": {},
   "outputs": [
    {
     "name": "stdout",
     "output_type": "stream",
     "text": [
      "51\n"
     ]
    }
   ],
   "source": [
    "for batch in forecasts:\n",
    "    \n",
    "    start = batch[\"startTime\"]\n",
    "    end = batch[\"endTime\"]\n",
    "    \n",
    "    if between_times(tomorrow_noon, start, end):\n",
    "        print(batch[\"temperature\"])\n",
    "        break"
   ]
  }
 ],
 "metadata": {
  "kernelspec": {
   "display_name": "Python (weather)",
   "language": "python",
   "name": "weather"
  },
  "language_info": {
   "codemirror_mode": {
    "name": "ipython",
    "version": 3
   },
   "file_extension": ".py",
   "mimetype": "text/x-python",
   "name": "python",
   "nbconvert_exporter": "python",
   "pygments_lexer": "ipython3",
   "version": "3.8.10"
  }
 },
 "nbformat": 4,
 "nbformat_minor": 5
}
