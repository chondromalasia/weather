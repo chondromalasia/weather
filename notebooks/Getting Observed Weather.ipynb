{
 "cells": [
  {
   "cell_type": "markdown",
   "id": "5bf08080",
   "metadata": {},
   "source": [
    "# Get the Current Observed Weather"
   ]
  },
  {
   "cell_type": "code",
   "execution_count": 44,
   "id": "6eba2cbd",
   "metadata": {},
   "outputs": [],
   "source": [
    "import sys\n",
    "\n",
    "import requests\n",
    "import pytz\n",
    "from datetime import datetime\n",
    "from bs4 import BeautifulSoup\n",
    "\n",
    "sys.path.append(\"..\")\n",
    "import src.download as dl"
   ]
  },
  {
   "cell_type": "code",
   "execution_count": 2,
   "id": "c692f973",
   "metadata": {},
   "outputs": [
    {
     "data": {
      "text/plain": [
       "'https://api.weather.gov/points/{latitude},{longitude}'"
      ]
     },
     "execution_count": 2,
     "metadata": {},
     "output_type": "execute_result"
    }
   ],
   "source": [
    "dl.base_url"
   ]
  },
  {
   "cell_type": "code",
   "execution_count": 5,
   "id": "0c4a85eb",
   "metadata": {},
   "outputs": [],
   "source": [
    "central_park = dl.locations[0]"
   ]
  },
  {
   "cell_type": "code",
   "execution_count": 8,
   "id": "b05e381d",
   "metadata": {},
   "outputs": [],
   "source": [
    "cp_url = dl.format_url(dl.base_url, **central_park[\"lat_lon\"])"
   ]
  },
  {
   "cell_type": "code",
   "execution_count": 9,
   "id": "1f1336af",
   "metadata": {},
   "outputs": [],
   "source": [
    "d = requests.get(cp_url)"
   ]
  },
  {
   "cell_type": "code",
   "execution_count": 10,
   "id": "25224610",
   "metadata": {},
   "outputs": [
    {
     "data": {
      "text/plain": [
       "<Response [200]>"
      ]
     },
     "execution_count": 10,
     "metadata": {},
     "output_type": "execute_result"
    }
   ],
   "source": [
    "d"
   ]
  },
  {
   "cell_type": "code",
   "execution_count": 11,
   "id": "85829a05",
   "metadata": {},
   "outputs": [
    {
     "data": {
      "text/plain": [
       "{'@context': ['https://geojson.org/geojson-ld/geojson-context.jsonld',\n",
       "  {'@version': '1.1',\n",
       "   'wx': 'https://api.weather.gov/ontology#',\n",
       "   's': 'https://schema.org/',\n",
       "   'geo': 'http://www.opengis.net/ont/geosparql#',\n",
       "   'unit': 'http://codes.wmo.int/common/unit/',\n",
       "   '@vocab': 'https://api.weather.gov/ontology#',\n",
       "   'geometry': {'@id': 's:GeoCoordinates', '@type': 'geo:wktLiteral'},\n",
       "   'city': 's:addressLocality',\n",
       "   'state': 's:addressRegion',\n",
       "   'distance': {'@id': 's:Distance', '@type': 's:QuantitativeValue'},\n",
       "   'bearing': {'@type': 's:QuantitativeValue'},\n",
       "   'value': {'@id': 's:value'},\n",
       "   'unitCode': {'@id': 's:unitCode', '@type': '@id'},\n",
       "   'forecastOffice': {'@type': '@id'},\n",
       "   'forecastGridData': {'@type': '@id'},\n",
       "   'publicZone': {'@type': '@id'},\n",
       "   'county': {'@type': '@id'}}],\n",
       " 'id': 'https://api.weather.gov/points/40.7823,-87.7420999',\n",
       " 'type': 'Feature',\n",
       " 'geometry': {'type': 'Point', 'coordinates': [-87.7420999, 40.7823]},\n",
       " 'properties': {'@id': 'https://api.weather.gov/points/40.7823,-87.7420999',\n",
       "  '@type': 'wx:Point',\n",
       "  'cwa': 'LOT',\n",
       "  'forecastOffice': 'https://api.weather.gov/offices/LOT',\n",
       "  'gridId': 'LOT',\n",
       "  'gridX': 73,\n",
       "  'gridY': 22,\n",
       "  'forecast': 'https://api.weather.gov/gridpoints/LOT/73,22/forecast',\n",
       "  'forecastHourly': 'https://api.weather.gov/gridpoints/LOT/73,22/forecast/hourly',\n",
       "  'forecastGridData': 'https://api.weather.gov/gridpoints/LOT/73,22',\n",
       "  'observationStations': 'https://api.weather.gov/gridpoints/LOT/73,22/stations',\n",
       "  'relativeLocation': {'type': 'Feature',\n",
       "   'geometry': {'type': 'Point', 'coordinates': [-87.729269, 40.7748]},\n",
       "   'properties': {'city': 'Watseka',\n",
       "    'state': 'IL',\n",
       "    'distance': {'unitCode': 'wmoUnit:m', 'value': 1364.812354219},\n",
       "    'bearing': {'unitCode': 'wmoUnit:degree_(angle)', 'value': 307}}},\n",
       "  'forecastZone': 'https://api.weather.gov/zones/forecast/ILZ033',\n",
       "  'county': 'https://api.weather.gov/zones/county/ILC075',\n",
       "  'fireWeatherZone': 'https://api.weather.gov/zones/fire/ILZ033',\n",
       "  'timeZone': 'America/Chicago',\n",
       "  'radarStation': 'KLOT'}}"
      ]
     },
     "execution_count": 11,
     "metadata": {},
     "output_type": "execute_result"
    }
   ],
   "source": [
    "d.json()"
   ]
  },
  {
   "cell_type": "code",
   "execution_count": 28,
   "id": "80de78a3",
   "metadata": {},
   "outputs": [],
   "source": [
    "url = \"https://api.weather.gov/stations/KNYC/observations/latest\""
   ]
  },
  {
   "cell_type": "code",
   "execution_count": 29,
   "id": "9cc96365",
   "metadata": {},
   "outputs": [],
   "source": [
    "raw = requests.get(url)"
   ]
  },
  {
   "cell_type": "code",
   "execution_count": 19,
   "id": "da346c6c",
   "metadata": {},
   "outputs": [
    {
     "data": {
      "text/plain": [
       "<Response [200]>"
      ]
     },
     "execution_count": 19,
     "metadata": {},
     "output_type": "execute_result"
    }
   ],
   "source": [
    "raw"
   ]
  },
  {
   "cell_type": "code",
   "execution_count": 30,
   "id": "f07b64df",
   "metadata": {},
   "outputs": [],
   "source": [
    "d = raw.json()"
   ]
  },
  {
   "cell_type": "code",
   "execution_count": 31,
   "id": "d794ede8",
   "metadata": {},
   "outputs": [
    {
     "data": {
      "text/plain": [
       "{'unitCode': 'wmoUnit:degC', 'value': 23.9, 'qualityControl': 'V'}"
      ]
     },
     "execution_count": 31,
     "metadata": {},
     "output_type": "execute_result"
    }
   ],
   "source": [
    "d[\"properties\"][\"temperature\"]"
   ]
  },
  {
   "cell_type": "code",
   "execution_count": 32,
   "id": "59c43a09",
   "metadata": {},
   "outputs": [],
   "source": [
    "def celcius_to_fahrenheit(celcius):\n",
    "    return (celcius * 1.8) + 32"
   ]
  },
  {
   "cell_type": "code",
   "execution_count": 33,
   "id": "0d58222a",
   "metadata": {},
   "outputs": [
    {
     "data": {
      "text/plain": [
       "75.02"
      ]
     },
     "execution_count": 33,
     "metadata": {},
     "output_type": "execute_result"
    }
   ],
   "source": [
    "celcius_to_fahrenheit(23.9)"
   ]
  },
  {
   "cell_type": "code",
   "execution_count": 38,
   "id": "690ae74e",
   "metadata": {},
   "outputs": [
    {
     "data": {
      "text/plain": [
       "datetime.datetime(2021, 10, 16, 17, 51, tzinfo=datetime.timezone.utc)"
      ]
     },
     "execution_count": 38,
     "metadata": {},
     "output_type": "execute_result"
    }
   ],
   "source": [
    "datetime.fromisoformat(d['properties']['timestamp'])"
   ]
  },
  {
   "cell_type": "markdown",
   "id": "fd56bcde",
   "metadata": {},
   "source": [
    "## Scrape it"
   ]
  },
  {
   "cell_type": "code",
   "execution_count": 39,
   "id": "d4c558d5",
   "metadata": {},
   "outputs": [],
   "source": [
    "real_url = \"https://forecast.weather.gov/MapClick.php?lat=40.78232000000003&lon=-73.96541999999994\""
   ]
  },
  {
   "cell_type": "code",
   "execution_count": 40,
   "id": "9861dfe3",
   "metadata": {},
   "outputs": [],
   "source": [
    "home_raw = requests.get(real_url)"
   ]
  },
  {
   "cell_type": "code",
   "execution_count": 48,
   "id": "79ef6c02",
   "metadata": {},
   "outputs": [],
   "source": [
    "soup = BeautifulSoup(home_raw.content, \"html.parser\")"
   ]
  },
  {
   "cell_type": "code",
   "execution_count": 50,
   "id": "d1c54b27",
   "metadata": {},
   "outputs": [
    {
     "data": {
      "text/plain": [
       "<div class=\"panel panel-default\" id=\"current-conditions\">\n",
       "<!-- Current Conditions header row -->\n",
       "<div class=\"panel-heading\">\n",
       "<div>\n",
       "<b>Current conditions at</b>\n",
       "<h2 class=\"panel-title\">New York City, Central Park (KNYC)</h2>\n",
       "<span class=\"smallTxt\"><b>Lat: </b>40.78°N<b>Lon: </b>73.97°W<b>Elev: </b>154ft.</span>\n",
       "</div>\n",
       "</div>\n",
       "<div class=\"panel-body\" id=\"current-conditions-body\">\n",
       "<!-- Graphic and temperatures -->\n",
       "<div class=\"pull-left\" id=\"current_conditions-summary\">\n",
       "<img alt=\"\" class=\"pull-left\" src=\"newimages/large/sct.png\"/>\n",
       "<p class=\"myforecast-current\">Fair</p>\n",
       "<p class=\"myforecast-current-lrg\">75°F</p>\n",
       "<p class=\"myforecast-current-sm\">24°C</p>\n",
       "</div>\n",
       "<div class=\"pull-left\" id=\"current_conditions_detail\">\n",
       "<table>\n",
       "<tr>\n",
       "<td class=\"text-right\"><b>Humidity</b></td>\n",
       "<td>69%</td>\n",
       "</tr>\n",
       "<tr>\n",
       "<td class=\"text-right\"><b>Wind Speed</b></td>\n",
       "<td>SE 3 mph</td>\n",
       "</tr>\n",
       "<tr>\n",
       "<td class=\"text-right\"><b>Barometer</b></td>\n",
       "<td>29.69 in (1004.5 mb)</td>\n",
       "</tr>\n",
       "<tr>\n",
       "<td class=\"text-right\"><b>Dewpoint</b></td>\n",
       "<td>64°F (18°C)</td>\n",
       "</tr>\n",
       "<tr>\n",
       "<td class=\"text-right\"><b>Visibility</b></td>\n",
       "<td>10.00 mi</td>\n",
       "</tr>\n",
       "<tr>\n",
       "<td class=\"text-right\"><b>Last update</b></td>\n",
       "<td>\n",
       "                16 Oct 1:51 pm EDT            </td>\n",
       "</tr>\n",
       "</table>\n",
       "</div>\n",
       "<div id=\"current_conditions_station\">\n",
       "<div class=\"current-conditions-extra\">\n",
       "<!-- Right hand section -->\n",
       "<p class=\"moreInfo\"><b>More Information:</b></p><p><a href=\"https://www.weather.gov/okx/\" id=\"localWFO\" title=\"New York, NY\"><span class=\"hideText\">Local</span> Forecast Office</a><a href=\"obslocal.php?warnzone=NYZ072&amp;local_place=Central Park NY&amp;zoneid=EDT&amp;offset=14400\" id=\"moreWx\">More Local Wx</a><a href=\"//www.weather.gov/data/obhistory/KNYC.html\" id=\"3dayHist\">3 Day History</a><a href=\"//mobile.weather.gov/index.php?lat=40.7823&amp;lon=-73.9654&amp;unit=0&amp;lg=english\" id=\"mobileWxLink\">Mobile Weather</a><a href=\"MapClick.php?lat=40.7823&amp;lon=-73.9654&amp;unit=0&amp;lg=english&amp;FcstType=graphical\" id=\"wxGraph\">Hourly <span class=\"hideText\">Weather </span>Forecast</a></p> </div>\n",
       "<!-- /current_conditions_station -->\n",
       "</div>\n",
       "<!-- /current-conditions-body -->\n",
       "</div>\n",
       "<!-- /Current Conditions -->\n",
       "</div>"
      ]
     },
     "execution_count": 50,
     "metadata": {},
     "output_type": "execute_result"
    }
   ],
   "source": [
    "soup.find(\"div\", {\"id\":\"current-conditions\"})"
   ]
  }
 ],
 "metadata": {
  "kernelspec": {
   "display_name": "Python (weather)",
   "language": "python",
   "name": "weather"
  },
  "language_info": {
   "codemirror_mode": {
    "name": "ipython",
    "version": 3
   },
   "file_extension": ".py",
   "mimetype": "text/x-python",
   "name": "python",
   "nbconvert_exporter": "python",
   "pygments_lexer": "ipython3",
   "version": "3.8.10"
  }
 },
 "nbformat": 4,
 "nbformat_minor": 5
}
