{
 "cells": [
  {
   "cell_type": "code",
   "execution_count": 2,
   "id": "e4a9a54f",
   "metadata": {},
   "outputs": [],
   "source": [
    "from time import sleep\n",
    "from datetime import date, timedelta, datetime\n",
    "\n",
    "from selenium import webdriver\n",
    "from selenium.webdriver.common.by import By\n",
    "from selenium.webdriver.support import expected_conditions as ec\n",
    "from selenium.webdriver.support.ui import WebDriverWait\n",
    "from selenium.webdriver.support.ui import Select\n",
    "from selenium.webdriver.chrome.options import Options"
   ]
  },
  {
   "cell_type": "code",
   "execution_count": 25,
   "id": "afe1c006",
   "metadata": {},
   "outputs": [],
   "source": [
    "options = webdriver.FirefoxOptions()\n",
    "options.headless = True\n"
   ]
  },
  {
   "cell_type": "code",
   "execution_count": 23,
   "id": "470fb0b4",
   "metadata": {},
   "outputs": [],
   "source": [
    "options = Options()\n",
    "options.add_argument(\"--headless\")\n",
    "#options.headless=True\n",
    "#options.user_agent = 'Mozilla/5.0 (X11; Linux x86_64) AppleWebKit/537.36 (KHTML, like Gecko) Chrome/106.0.0.0 Safari/537.36'"
   ]
  },
  {
   "cell_type": "code",
   "execution_count": 4,
   "id": "f18548f4",
   "metadata": {},
   "outputs": [],
   "source": [
    "today = str(date.today())\n"
   ]
  },
  {
   "cell_type": "code",
   "execution_count": 5,
   "id": "c26e7671",
   "metadata": {},
   "outputs": [
    {
     "data": {
      "text/plain": [
       "'2022-10-31 20:59:54.502605'"
      ]
     },
     "execution_count": 5,
     "metadata": {},
     "output_type": "execute_result"
    }
   ],
   "source": [
    "now = str(datetime.now())\n",
    "now"
   ]
  },
  {
   "cell_type": "code",
   "execution_count": 6,
   "id": "da0cbfb7",
   "metadata": {},
   "outputs": [],
   "source": [
    "tomorrow = str(date.today() + timedelta(days=1))"
   ]
  },
  {
   "cell_type": "code",
   "execution_count": 7,
   "id": "d62af448",
   "metadata": {},
   "outputs": [
    {
     "data": {
      "text/plain": [
       "'\\nmake it headless\\nfrom selenium import webdriver\\nfrom selenium.webdriver.chrome.options import Options\\n  \\n# instance of Options class allows\\n# us to configure Headless Chrome\\noptions = Options()\\n  \\n# this parameter tells Chrome that\\n# it should be run without UI (Headless)\\noptions.headless = True\\n  \\n# initializing webdriver for Chrome with our options\\ndriver = webdriver.Chrome(options=options)'"
      ]
     },
     "execution_count": 7,
     "metadata": {},
     "output_type": "execute_result"
    }
   ],
   "source": [
    "\"\"\"\n",
    "make it headless\n",
    "from selenium import webdriver\n",
    "from selenium.webdriver.chrome.options import Options\n",
    "  \n",
    "# instance of Options class allows\n",
    "# us to configure Headless Chrome\n",
    "options = Options()\n",
    "  \n",
    "# this parameter tells Chrome that\n",
    "# it should be run without UI (Headless)\n",
    "options.headless = True\n",
    "  \n",
    "# initializing webdriver for Chrome with our options\n",
    "driver = webdriver.Chrome(options=options)\"\"\""
   ]
  },
  {
   "cell_type": "code",
   "execution_count": 8,
   "id": "dc77f4a5",
   "metadata": {},
   "outputs": [],
   "source": [
    "def degree_cleaner(to_clean):\n",
    "    if \"\\n\" in to_clean:\n",
    "        to_clean = to_clean.split(\"\\n\")[0]\n",
    "    if to_clean[len(to_clean)-1] == \"°\":\n",
    "        return to_clean[:-1]\n",
    "    else:\n",
    "        return to_clean"
   ]
  },
  {
   "cell_type": "code",
   "execution_count": 9,
   "id": "46acb7ed",
   "metadata": {},
   "outputs": [],
   "source": [
    "def nws_cleaner(to_clean):\n",
    "    return to_clean.split(' ')[1]"
   ]
  },
  {
   "cell_type": "markdown",
   "id": "fb27aae5",
   "metadata": {},
   "source": [
    "## Headers = city, prediction_date, time_now, service, temp"
   ]
  },
  {
   "cell_type": "code",
   "execution_count": 10,
   "id": "cb8610d3",
   "metadata": {},
   "outputs": [],
   "source": [
    "def ad_check(driver):\n",
    "    try:\n",
    "        ad = WebDriverWait(driver, 1).until(\n",
    "            ec.visibility_of_element_located((By.XPATH, '//*[@id=\"ad_position_box\"]')))\n",
    "        print('ad')\n",
    "    except:\n",
    "        print('no ad')"
   ]
  },
  {
   "cell_type": "markdown",
   "id": "c8386715",
   "metadata": {},
   "source": [
    "def TWC_scraper(driver, city, tomorrow, now):\n",
    "    while True:\n",
    "        try:\n",
    "            if city == 'NYC':\n",
    "                url = \"https://weather.com/weather/tenday/l/10035:4:US\"\n",
    "            elif city == 'CHI':\n",
    "                url = \"https://weather.com/en-MH/weather/tenday/l/47895a57832fa42b0f27ccd62ba1cace382d58779e776bf5a066b1f42d6cc5a1\"\n",
    "\n",
    "            driver.get(url)\n",
    "            sleep(3)\n",
    "            WebDriverWait(driver, 20).until(ec.element_to_be_clickable((By.XPATH, '//*[@id=\"WxuHeaderLargeScreen-header-9944ec87-e4d4-4f18-b23e-ce4a3fd8a3ba\"]/header/div/div[2]/div[2]/button'))).click()\n",
    "            WebDriverWait(driver, 20).until(ec.element_to_be_clickable((By.XPATH, '//*[@id=\"UnitSelectorTabs-tab_0\"]'))).click()\n",
    "\n",
    "            k = driver.find_elements(By.XPATH, \"/html/body/div[1]/main/div[2]/main/div[1]/section/div[2]/details[2]/summary/div/div/div[1]/span[1]\")\n",
    "\n",
    "            temp = degree_cleaner(k[0].text)\n",
    "        except:\n",
    "            pass\n",
    "    \n",
    "    return [city, tomorrow, now, \"TWC\", temp]"
   ]
  },
  {
   "cell_type": "code",
   "execution_count": 11,
   "id": "866300b6",
   "metadata": {},
   "outputs": [],
   "source": [
    "def TWC_scraper(driver, city, tomorrow, now):\n",
    "    \n",
    "    print(\"TWC\" + city)\n",
    "\n",
    "    if city == 'NYC':\n",
    "        url = \"https://weather.com/weather/tenday/l/10035:4:US\"\n",
    "    elif city == 'CHI':\n",
    "        url = \"https://weather.com/en-MH/weather/tenday/l/47895a57832fa42b0f27ccd62ba1cace382d58779e776bf5a066b1f42d6cc5a1\"\n",
    "\n",
    "    driver.get(url)\n",
    "    sleep(3)\n",
    "    \n",
    "    # if it's already on fahrenheit, this times out\n",
    "    try:\n",
    "        WebDriverWait(driver, 20).until(ec.element_to_be_clickable((By.XPATH, '//*[@id=\"WxuHeaderLargeScreen-header-9944ec87-e4d4-4f18-b23e-ce4a3fd8a3ba\"]/header/div/div[2]/div[2]/button'))).click()\n",
    "        WebDriverWait(driver, 20).until(ec.element_to_be_clickable((By.XPATH, '//*[@id=\"UnitSelectorTabs-tab_0\"]'))).click()\n",
    "    except:\n",
    "        pass\n",
    "        \n",
    "    k = driver.find_elements(By.XPATH, \"/html/body/div[1]/main/div[2]/main/div[1]/section/div[2]/details[2]/summary/div/div/div[1]/span[1]\")\n",
    "\n",
    "    temp = degree_cleaner(k[0].text)\n",
    "\n",
    "    \n",
    "    return [city, tomorrow, now, \"TWC\", temp]"
   ]
  },
  {
   "cell_type": "code",
   "execution_count": 12,
   "id": "c7aedecf",
   "metadata": {},
   "outputs": [],
   "source": [
    "def accuweather_scraper(driver, city, tomorrow, now):\n",
    "\n",
    "    if city == 'NYC':\n",
    "        url = \"https://www.accuweather.com/en/us/central-park/10028/daily-weather-forecast/2627448?day=2\"\n",
    "    elif city == 'CHI':\n",
    "        url = 'https://www.accuweather.com/en/us/chicago-midway-international-airport/60638/daily-weather-forecast/10008_poi?day=2'\n",
    "        \n",
    "    while True:\n",
    "    # Accuweather NYC\n",
    "        try:\n",
    "            driver.get(url)\n",
    "\n",
    "            print(\"Accuweather\" + city)\n",
    "            # rather than check ads, just retry it?\n",
    "            WebDriverWait(driver, 20).until(ec.element_to_be_clickable((By.XPATH, \"//*[name()='svg' and @class='hamburger-button icon-hamburger']\"))).click()\n",
    "            WebDriverWait(driver, 20).until(ec.element_to_be_clickable((By.XPATH, \"//*[name()='svg' and @class='icon-settings']\"))).click()\n",
    "            drop = Select(driver.find_element(By.ID, \"unit\"))\n",
    "            # I ran into an ad here\n",
    "            drop.select_by_value(\"F\")\n",
    "\n",
    "            driver.back()\n",
    "\n",
    "            temp_text = driver.find_element(By.XPATH, \"/html/body/div/div[5]/div[1]/div[1]/div[2]/div[1]/div[1]\")\n",
    "            temp = degree_cleaner(temp_text.text)\n",
    "\n",
    "            break\n",
    "        except:\n",
    "            # if there's an ad, we just do it again\n",
    "            pass\n",
    "    return [city, tomorrow, now, \"Accuweather\", temp]"
   ]
  },
  {
   "cell_type": "code",
   "execution_count": 13,
   "id": "f412e955",
   "metadata": {},
   "outputs": [],
   "source": [
    "days_of_week = (\n",
    "    \"Monday\",\n",
    "    \"Tuesday\",\n",
    "    \"Wednesday\",\n",
    "    \"Thursday\",\n",
    "    \"Friday\",\n",
    "    \"Saturday\",\n",
    "    \"Sunday\"\n",
    ")"
   ]
  },
  {
   "cell_type": "code",
   "execution_count": 20,
   "id": "f32d3852",
   "metadata": {},
   "outputs": [],
   "source": [
    "\n",
    "def NWS_scraper(driver, city, tomorrow, now):\n",
    "    \n",
    "    print('NWS' + city)\n",
    "    \n",
    "    if city == 'NYC':\n",
    "        url = \"https://forecast.weather.gov/MapClick.php?lat=40.7823&lon=-73.9654\"\n",
    "    elif city == 'CHI':\n",
    "        url = \"https://forecast.weather.gov/MapClick.php?lat=41.7868&lon=-87.7455\"\n",
    "        \n",
    "    while True:\n",
    "        try:\n",
    "            driver.get(url)\n",
    "\n",
    "            second_pos_head = driver.find_element(By.XPATH, '//*[@id=\"seven-day-forecast-list\"]/li[2]/div/p[1]')\n",
    "            \n",
    "            print(second_pos_head.text)\n",
    "            \n",
    "            if second_pos_head.text not in days_of_week:\n",
    "                woop = driver.find_element(By.XPATH, '//*[@id=\"seven-day-forecast-list\"]/li[3]/div/p[4]')\n",
    "            else:\n",
    "                woop = driver.find_element(By.XPATH, '//*[@id=\"seven-day-forecast-list\"]/li[2]/div/p[4]')\n",
    "\n",
    "            temp = nws_cleaner(woop.text)\n",
    "            \n",
    "            break\n",
    "            \n",
    "        except:\n",
    "            pass\n",
    "    \n",
    "    return [city, tomorrow, now, \"NWS\", temp]"
   ]
  },
  {
   "cell_type": "code",
   "execution_count": 15,
   "id": "45e0d3fa",
   "metadata": {},
   "outputs": [],
   "source": [
    "def foreca_scraper(driver, city, tomorrow, now):\n",
    "    print('foreca' + city)\n",
    "    \n",
    "    while True:\n",
    "        try:\n",
    "            if city == 'NYC':\n",
    "                url = \"https://www.foreca.com/106301678/New-York-City-Central-Park-New-York\"\n",
    "            elif city == \"CHI\":\n",
    "                url = \"https://www.foreca.com/104887472/Chicago-Midway-International-Airport-Chicago-IL\"\n",
    "\n",
    "            driver.get(url)\n",
    "            WebDriverWait(driver, 20).until(ec.element_to_be_clickable((By.XPATH, '//*[@id=\"drawerToggle\"]'))).click()\n",
    "\n",
    "            WebDriverWait(driver, 20).until(ec.element_to_be_clickable((By.XPATH, '//*[@class=\"title\" and text()=\"F°\"]'))).click()\n",
    "            driver.refresh()\n",
    "\n",
    "            temp = driver.find_element(By.XPATH, '//*[@id=\"pageContent\"]/div/section[2]/div/div[1]/div[2]/a/p[2]/span[2]')\n",
    "            temp = degree_cleaner(temp.text)\n",
    "\n",
    "            return [city, tomorrow, now, \"foreca\", temp]\n",
    "        except:\n",
    "            pass"
   ]
  },
  {
   "cell_type": "code",
   "execution_count": 26,
   "id": "d47b61fe",
   "metadata": {},
   "outputs": [
    {
     "name": "stderr",
     "output_type": "stream",
     "text": [
      "/tmp/ipykernel_21923/3059253484.py:3: DeprecationWarning: executable_path has been deprecated, please pass in a Service object\n",
      "  driver = webdriver.Firefox(executable_path=\"/home/heath/bin/geckodriver\", options=options)\n"
     ]
    },
    {
     "name": "stdout",
     "output_type": "stream",
     "text": [
      "TWCCHI\n",
      "TWCNYC\n",
      "AccuweatherNYC\n",
      "AccuweatherCHI\n",
      "AccuweatherCHI\n",
      "NWSNYC\n",
      "Tonight\n",
      "NWSCHI\n",
      "Tonight\n",
      "forecaNYC\n",
      "forecaCHI\n"
     ]
    }
   ],
   "source": [
    "to_write = []\n",
    "# driver = webdriver.Chrome(executable_path=\"/home/heath/bin/chromedriver\", options=options)\n",
    "driver = webdriver.Firefox(executable_path=\"/home/heath/bin/geckodriver\", options=options)\n",
    "driver.implicitly_wait(15)\n",
    "\n",
    "to_write.append(TWC_scraper(driver, \"CHI\", tomorrow, now))\n",
    "to_write.append(TWC_scraper(driver, \"NYC\", tomorrow, now))\n",
    "to_write.append(accuweather_scraper(driver, \"NYC\", tomorrow, now))\n",
    "to_write.append(accuweather_scraper(driver, \"CHI\", tomorrow, now))\n",
    "to_write.append(NWS_scraper(driver, \"NYC\", tomorrow, now))\n",
    "to_write.append(NWS_scraper(driver, \"CHI\", tomorrow, now))   \n",
    "to_write.append(foreca_scraper(driver, \"NYC\", tomorrow, now))\n",
    "to_write.append(foreca_scraper(driver, \"CHI\", tomorrow, now))\n",
    "\n",
    "driver.close()"
   ]
  },
  {
   "cell_type": "code",
   "execution_count": 27,
   "id": "4d98a28a",
   "metadata": {},
   "outputs": [
    {
     "name": "stdout",
     "output_type": "stream",
     "text": [
      "['NYC', '2022-11-01', '2022-10-31 20:59:54.502605', 'TWC', '66']\n",
      "['NYC', '2022-11-01', '2022-10-31 20:59:54.502605', 'Accuweather', '68']\n",
      "['NYC', '2022-11-01', '2022-10-31 20:59:54.502605', 'NWS', '66']\n",
      "['NYC', '2022-11-01', '2022-10-31 20:59:54.502605', 'foreca', '64']\n",
      "\n",
      "\n",
      "['CHI', '2022-11-01', '2022-10-31 20:59:54.502605', 'TWC', '70']\n",
      "['CHI', '2022-11-01', '2022-10-31 20:59:54.502605', 'Accuweather', '69']\n",
      "['CHI', '2022-11-01', '2022-10-31 20:59:54.502605', 'NWS', '67']\n",
      "['CHI', '2022-11-01', '2022-10-31 20:59:54.502605', 'foreca', '70']\n"
     ]
    }
   ],
   "source": [
    "def to_write_printer(to_write):\n",
    "    for i in to_write:\n",
    "        if i[0] == 'NYC':\n",
    "            print(i)\n",
    "            \n",
    "    print('\\n')\n",
    "    for j in to_write:\n",
    "        if j[0] == 'CHI':\n",
    "            print(j)\n",
    "            \n",
    "to_write_printer(to_write)"
   ]
  }
 ],
 "metadata": {
  "kernelspec": {
   "display_name": "Python (weather)",
   "language": "python",
   "name": "weather"
  },
  "language_info": {
   "codemirror_mode": {
    "name": "ipython",
    "version": 3
   },
   "file_extension": ".py",
   "mimetype": "text/x-python",
   "name": "python",
   "nbconvert_exporter": "python",
   "pygments_lexer": "ipython3",
   "version": "3.8.10"
  }
 },
 "nbformat": 4,
 "nbformat_minor": 5
}
