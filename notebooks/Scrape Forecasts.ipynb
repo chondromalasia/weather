{
 "cells": [
  {
   "cell_type": "code",
   "execution_count": 13,
   "id": "e4a9a54f",
   "metadata": {},
   "outputs": [],
   "source": [
    "from time import sleep\n",
    "from datetime import date, timedelta, datetime\n",
    "\n",
    "from selenium import webdriver\n",
    "from selenium.webdriver.common.by import By\n",
    "from selenium.webdriver.support import expected_conditions as ec\n",
    "from selenium.webdriver.support.ui import WebDriverWait\n",
    "from selenium.webdriver.support.ui import Select"
   ]
  },
  {
   "cell_type": "code",
   "execution_count": 2,
   "id": "f18548f4",
   "metadata": {},
   "outputs": [],
   "source": [
    "today = str(date.today())\n"
   ]
  },
  {
   "cell_type": "code",
   "execution_count": 3,
   "id": "c26e7671",
   "metadata": {},
   "outputs": [
    {
     "data": {
      "text/plain": [
       "'2022-10-27 20:34:29.964463'"
      ]
     },
     "execution_count": 3,
     "metadata": {},
     "output_type": "execute_result"
    }
   ],
   "source": [
    "now = str(datetime.now())\n",
    "now"
   ]
  },
  {
   "cell_type": "code",
   "execution_count": 4,
   "id": "da0cbfb7",
   "metadata": {},
   "outputs": [],
   "source": [
    "tomorrow = str(date.today() + timedelta(days=1))"
   ]
  },
  {
   "cell_type": "code",
   "execution_count": 4,
   "id": "d62af448",
   "metadata": {},
   "outputs": [
    {
     "data": {
      "text/plain": [
       "'\\nmake it headless\\nfrom selenium import webdriver\\nfrom selenium.webdriver.chrome.options import Options\\n  \\n# instance of Options class allows\\n# us to configure Headless Chrome\\noptions = Options()\\n  \\n# this parameter tells Chrome that\\n# it should be run without UI (Headless)\\noptions.headless = True\\n  \\n# initializing webdriver for Chrome with our options\\ndriver = webdriver.Chrome(options=options)'"
      ]
     },
     "execution_count": 4,
     "metadata": {},
     "output_type": "execute_result"
    }
   ],
   "source": [
    "\"\"\"\n",
    "make it headless\n",
    "from selenium import webdriver\n",
    "from selenium.webdriver.chrome.options import Options\n",
    "  \n",
    "# instance of Options class allows\n",
    "# us to configure Headless Chrome\n",
    "options = Options()\n",
    "  \n",
    "# this parameter tells Chrome that\n",
    "# it should be run without UI (Headless)\n",
    "options.headless = True\n",
    "  \n",
    "# initializing webdriver for Chrome with our options\n",
    "driver = webdriver.Chrome(options=options)\"\"\""
   ]
  },
  {
   "cell_type": "code",
   "execution_count": 31,
   "id": "dc77f4a5",
   "metadata": {},
   "outputs": [],
   "source": [
    "def degree_cleaner(to_clean):\n",
    "    if \"\\n\" in to_clean:\n",
    "        to_clean = to_clean.split(\"\\n\")[0]\n",
    "    if to_clean[len(to_clean)-1] == \"°\":\n",
    "        return to_clean[:-1]\n",
    "    else:\n",
    "        return to_clean"
   ]
  },
  {
   "cell_type": "code",
   "execution_count": 44,
   "id": "46acb7ed",
   "metadata": {},
   "outputs": [],
   "source": [
    "def nws_cleaner(to_clean):\n",
    "    return to_clean.split(' ')[1]"
   ]
  },
  {
   "cell_type": "markdown",
   "id": "fb27aae5",
   "metadata": {},
   "source": [
    "## Headers = city, prediction_date, time_now, service, temp"
   ]
  },
  {
   "cell_type": "code",
   "execution_count": 37,
   "id": "cb8610d3",
   "metadata": {},
   "outputs": [],
   "source": [
    "def ad_check(driver):\n",
    "    try:\n",
    "        ad = WebDriverWait(driver, 1).until(\n",
    "            ec.visibility_of_element_located((By.XPATH, '//*[@id=\"ad_position_box\"]')))\n",
    "        print('ad')\n",
    "    except:\n",
    "        print('no ad')"
   ]
  },
  {
   "cell_type": "code",
   "execution_count": 74,
   "id": "b061fcce",
   "metadata": {},
   "outputs": [
    {
     "name": "stderr",
     "output_type": "stream",
     "text": [
      "/tmp/ipykernel_16283/2555017486.py:3: DeprecationWarning: executable_path has been deprecated, please pass in a Service object\n",
      "  driver = webdriver.Chrome(executable_path=\"/home/heath/bin/chromedriver\")\n"
     ]
    },
    {
     "name": "stdout",
     "output_type": "stream",
     "text": [
      "[['NYC', '2022-10-28', '2022-10-27 20:34:29.964463', 'TWC', '56'], ['NYC', '2022-10-28', '2022-10-27 20:34:29.964463', 'Accuweather', '58'], ['NYC', '2022-10-28', '2022-10-27 20:34:29.964463', 'NWS', '57'], ['NYC', '2022-10-28', '2022-10-27 20:34:29.964463', 'Foreca', '61']]\n"
     ]
    }
   ],
   "source": [
    "to_write = []\n",
    "\n",
    "driver = webdriver.Chrome(executable_path=\"/home/heath/bin/chromedriver\")\n",
    "\n",
    "driver.implicitly_wait(15)\n",
    "\n",
    "# TWC NYC\n",
    "driver.get(\"https://weather.com/weather/tenday/l/10035:4:US\")\n",
    "k = driver.find_elements(By.XPATH, \"/html/body/div[1]/main/div[2]/main/div[1]/section/div[2]/details[2]/summary/div/div/div[1]/span[1]\")\n",
    "\n",
    "temp = degree_cleaner(k[0].text)\n",
    "\n",
    "to_write.append([\"NYC\", tomorrow, now, \"TWC\", temp])\n",
    "\n",
    "while True:\n",
    "# Accuweather NYC\n",
    "    try:\n",
    "        driver.get(\"https://www.accuweather.com/en/us/central-park/10028/daily-weather-forecast/2627448?day=2\")\n",
    "\n",
    "        # rather than check ads, just retry it?\n",
    "        WebDriverWait(driver, 20).until(ec.element_to_be_clickable((By.XPATH, \"//*[name()='svg' and @class='hamburger-button icon-hamburger']\"))).click()\n",
    "        WebDriverWait(driver, 20).until(ec.element_to_be_clickable((By.XPATH, \"//*[name()='svg' and @class='icon-settings']\"))).click()\n",
    "        drop = Select(driver.find_element(By.ID, \"unit\"))\n",
    "        # I ran into an ad here\n",
    "        drop.select_by_value(\"F\")\n",
    "\n",
    "        driver.back()\n",
    "\n",
    "        temp_text = driver.find_element(By.XPATH, \"/html/body/div/div[5]/div[1]/div[1]/div[2]/div[1]/div[1]\")\n",
    "        temp = degree_cleaner(temp_text.text)\n",
    "        \n",
    "        break\n",
    "    except:\n",
    "        # if there's an ad, we just do it again\n",
    "        pass\n",
    "\n",
    "to_write.append([\"NYC\", tomorrow, now, \"Accuweather\", temp])\n",
    "\n",
    "driver.get(\"https://forecast.weather.gov/MapClick.php?lat=40.7823&lon=-73.9654\")\n",
    "\n",
    "woop = driver.find_element(By.XPATH, '//*[@id=\"seven-day-forecast-list\"]/li[2]/div/p[4]')\n",
    "\n",
    "temp = nws_cleaner(woop.text)\n",
    "\n",
    "to_write.append([\"NYC\", tomorrow, now, \"NWS\", temp])\n",
    "\n",
    "driver.get(\"https://www.foreca.com/104887472/Chicago-Midway-International-Airport-Chicago-IL\")\n",
    "WebDriverWait(driver, 20).until(ec.element_to_be_clickable((By.XPATH, '//*[@id=\"drawerToggle\"]'))).click()\n",
    "\n",
    "WebDriverWait(driver, 20).until(ec.element_to_be_clickable((By.XPATH, '//*[@class=\"title\" and text()=\"F°\"]'))).click()\n",
    "driver.refresh()\n",
    "\n",
    "temp = driver.find_element(By.XPATH, '//*[@id=\"pageContent\"]/div/section[2]/div/div[1]/div[2]/a/p[2]/span[2]')\n",
    "temp = degree_cleaner(temp.text)\n",
    "\n",
    "to_write.append([\"NYC\", tomorrow, now, \"Foreca\", temp])\n",
    "\n",
    "sleep(3)\n",
    "\n",
    "#driver.close()\n",
    "\n",
    "print(to_write)"
   ]
  },
  {
   "cell_type": "code",
   "execution_count": 75,
   "id": "d47b61fe",
   "metadata": {},
   "outputs": [],
   "source": [
    "driver.close()"
   ]
  }
 ],
 "metadata": {
  "kernelspec": {
   "display_name": "Python (weather)",
   "language": "python",
   "name": "weather"
  },
  "language_info": {
   "codemirror_mode": {
    "name": "ipython",
    "version": 3
   },
   "file_extension": ".py",
   "mimetype": "text/x-python",
   "name": "python",
   "nbconvert_exporter": "python",
   "pygments_lexer": "ipython3",
   "version": "3.8.10"
  }
 },
 "nbformat": 4,
 "nbformat_minor": 5
}
