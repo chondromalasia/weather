{
 "cells": [
  {
   "cell_type": "markdown",
   "id": "28869727",
   "metadata": {},
   "source": [
    "# Load 'em\n",
    "\n",
    "Note that you really shouldn't run this, the data is already there."
   ]
  },
  {
   "cell_type": "code",
   "execution_count": 1,
   "id": "96a2d808",
   "metadata": {},
   "outputs": [],
   "source": [
    "import csv\n",
    "from datetime import datetime, timedelta\n",
    "import sys\n",
    "\n",
    "sys.path.append(\"..\")\n",
    "\n",
    "import src.database as database\n",
    "import src.utils as utils"
   ]
  },
  {
   "cell_type": "code",
   "execution_count": 2,
   "id": "fd882b82",
   "metadata": {},
   "outputs": [
    {
     "data": {
      "text/plain": [
       "[['4/11/2022', '22:25', 'TWC', '70'],\n",
       " ['', '', 'Accuweather', '70'],\n",
       " ['', '', 'NWS', '70'],\n",
       " ['', '', 'foreca', '68'],\n",
       " ['', '', '', ''],\n",
       " ['3/11/2022', '23:18', 'TWC', '65'],\n",
       " ['', '', 'Accuweather', '65'],\n",
       " ['', '', 'NWS', '69'],\n",
       " ['', '', 'foreca', '64'],\n",
       " ['', '', '', ''],\n",
       " ['2/11/2022', '21:53', 'TWC', '69'],\n",
       " ['', '', 'Accuweather', '70'],\n",
       " ['', '', 'NWS', '67'],\n",
       " ['', '', 'foreca', '68'],\n",
       " ['', '', '', ''],\n",
       " ['1/11/2022', '20:21', 'TWC', '66'],\n",
       " ['', '', 'Accu', '68'],\n",
       " ['', '', 'NWS', '66'],\n",
       " ['', '', 'foreca', '64'],\n",
       " ['', '', '', ''],\n",
       " ['31/10/2022', '22:14', 'TWC', '63'],\n",
       " ['', '', 'Accu', '64'],\n",
       " ['', '', 'Foreca', '63'],\n",
       " ['', '', 'NWS', '64'],\n",
       " ['', '', '', ''],\n",
       " ['30/10/2022', '1:28', 'TWC', '62'],\n",
       " ['', '', 'Accu', '61'],\n",
       " ['', '', 'NWS', '62'],\n",
       " ['', '', 'Foreca', '59'],\n",
       " ['', '', '', ''],\n",
       " ['29/10/2022', '23:00', 'TWC', '60'],\n",
       " ['', '', 'Accu', '61'],\n",
       " ['', '', 'NWS', '61'],\n",
       " ['', '', 'Foreca', ''],\n",
       " ['', '', '', ''],\n",
       " ['28/10/2022', '22:27', 'TWC', '56'],\n",
       " ['', '', 'Accu', '58'],\n",
       " ['', '', 'NWS', '57'],\n",
       " ['', '', 'Foreca', '61'],\n",
       " ['', '', '', ''],\n",
       " ['27/10/2022', '22', 'TWC', '63'],\n",
       " ['', '', 'Accu', '66'],\n",
       " ['', '', 'Foreca', '63'],\n",
       " ['', '', 'NWS', '64'],\n",
       " ['', '', '', ''],\n",
       " ['26/10/2022', '22', 'TWC', '68'],\n",
       " ['', '', 'Accu', '70'],\n",
       " ['', '', 'Foreca', '70'],\n",
       " ['', '', 'NWS', '69'],\n",
       " ['', '', '', ''],\n",
       " ['15/10/2022', '22:09', 'TWC', '69'],\n",
       " ['', '', 'Accu', '69'],\n",
       " ['', '', 'Foreca', '66'],\n",
       " ['', '', 'NWS', '69'],\n",
       " ['', '1:51', 'Actual', '68'],\n",
       " ['16/10/2022', '22:45', 'Accu', '66'],\n",
       " ['', '', 'TWC', '65'],\n",
       " ['', '', 'Foreca', '68'],\n",
       " ['', '', 'NWS', '66'],\n",
       " ['', '', 'Actual', '64'],\n",
       " ['17/10/2022', '22:00', 'TWC', '66'],\n",
       " ['', '', 'Accu', '65'],\n",
       " ['', '', 'Foreca', '64'],\n",
       " ['', '', 'NWS', '66'],\n",
       " ['', '', '', '66'],\n",
       " ['18/10/2022', '23:15', 'TWC', '56'],\n",
       " ['', '', 'Accu', '56'],\n",
       " ['', '', 'Foreca', '55'],\n",
       " ['', '', 'NWS', '56'],\n",
       " ['', '', '', '56'],\n",
       " ['23/10/2022', '23:18', 'TWC', '61'],\n",
       " ['', '', 'Accu', '61'],\n",
       " ['', '', 'Foreca', '61'],\n",
       " ['', '', 'NWS', '62'],\n",
       " ['', '', '', '61'],\n",
       " ['24/10/2022', '22:30', 'TWC', '62'],\n",
       " ['', '', 'Acc', '65'],\n",
       " ['', '', 'Foreca', '63'],\n",
       " ['', '', 'NWS', '64'],\n",
       " ['', '', '', '61'],\n",
       " ['25/10/2022', '21:29', 'TWC', '68'],\n",
       " ['', '', 'Acc', '69'],\n",
       " ['', '', 'Foreca', '68'],\n",
       " ['', '', 'NWS', '70'],\n",
       " ['', '', '', '70']]"
      ]
     },
     "execution_count": 2,
     "metadata": {},
     "output_type": "execute_result"
    }
   ],
   "source": [
    "with open(\"../data/NYC - Next Day High - Sheet1.csv\") as b:\n",
    "    \n",
    "    csv_file = csv.reader(b)\n",
    "    \n",
    "    to_do = [i for i in csv_file][1:]\n",
    "    \n",
    "to_do"
   ]
  },
  {
   "cell_type": "code",
   "execution_count": 3,
   "id": "4856aed7",
   "metadata": {},
   "outputs": [
    {
     "data": {
      "text/plain": [
       "'2022-10-24'"
      ]
     },
     "execution_count": 3,
     "metadata": {},
     "output_type": "execute_result"
    }
   ],
   "source": [
    "def date_processor(date):\n",
    "    x = date.split(\"/\")\n",
    "    \n",
    "    return f'{x[2]}-{x[1]}-{x[0]}'\n",
    "    \n",
    "a = date_processor('24/10/2022')\n",
    "a"
   ]
  },
  {
   "cell_type": "code",
   "execution_count": 4,
   "id": "c2c6f21c",
   "metadata": {},
   "outputs": [],
   "source": [
    "def time_processor(time):\n",
    "    \n",
    "    if \":\" not in time:\n",
    "        return time + \":00\"\n",
    "    else:\n",
    "        return time"
   ]
  },
  {
   "cell_type": "code",
   "execution_count": 5,
   "id": "c720ae80",
   "metadata": {},
   "outputs": [
    {
     "data": {
      "text/plain": [
       "'10:00'"
      ]
     },
     "execution_count": 5,
     "metadata": {},
     "output_type": "execute_result"
    }
   ],
   "source": [
    "time_processor(\"10:00\")"
   ]
  },
  {
   "cell_type": "code",
   "execution_count": 6,
   "id": "aaae305f",
   "metadata": {},
   "outputs": [
    {
     "data": {
      "text/plain": [
       "'10:00'"
      ]
     },
     "execution_count": 6,
     "metadata": {},
     "output_type": "execute_result"
    }
   ],
   "source": [
    "time_processor(\"10\")"
   ]
  },
  {
   "cell_type": "code",
   "execution_count": 7,
   "id": "a45f2389",
   "metadata": {},
   "outputs": [
    {
     "data": {
      "text/plain": [
       "[['NYC', '2022-11-4', '2022-11-03 22:25', 'TWC', '70'],\n",
       " ['NYC', '2022-11-4', '2022-11-03 22:25', 'Accuweather', '70'],\n",
       " ['NYC', '2022-11-4', '2022-11-03 22:25', 'NWS', '70'],\n",
       " ['NYC', '2022-11-4', '2022-11-03 22:25', 'foreca', '68'],\n",
       " ['NYC', '2022-11-3', '2022-11-02 23:18', 'TWC', '65'],\n",
       " ['NYC', '2022-11-3', '2022-11-02 23:18', 'Accuweather', '65'],\n",
       " ['NYC', '2022-11-3', '2022-11-02 23:18', 'NWS', '69'],\n",
       " ['NYC', '2022-11-3', '2022-11-02 23:18', 'foreca', '64'],\n",
       " ['NYC', '2022-11-2', '2022-11-01 21:53', 'TWC', '69'],\n",
       " ['NYC', '2022-11-2', '2022-11-01 21:53', 'Accuweather', '70'],\n",
       " ['NYC', '2022-11-2', '2022-11-01 21:53', 'NWS', '67'],\n",
       " ['NYC', '2022-11-2', '2022-11-01 21:53', 'foreca', '68'],\n",
       " ['NYC', '2022-11-1', '2022-10-31 20:21', 'TWC', '66'],\n",
       " ['NYC', '2022-11-1', '2022-10-31 20:21', 'Accuweather', '68'],\n",
       " ['NYC', '2022-11-1', '2022-10-31 20:21', 'NWS', '66'],\n",
       " ['NYC', '2022-11-1', '2022-10-31 20:21', 'foreca', '64'],\n",
       " ['NYC', '2022-10-31', '2022-10-30 22:14', 'TWC', '63'],\n",
       " ['NYC', '2022-10-31', '2022-10-30 22:14', 'Accuweather', '64'],\n",
       " ['NYC', '2022-10-31', '2022-10-30 22:14', 'foreca', '63'],\n",
       " ['NYC', '2022-10-31', '2022-10-30 22:14', 'NWS', '64'],\n",
       " ['NYC', '2022-10-30', '2022-10-29 1:28', 'TWC', '62'],\n",
       " ['NYC', '2022-10-30', '2022-10-29 1:28', 'Accuweather', '61'],\n",
       " ['NYC', '2022-10-30', '2022-10-29 1:28', 'NWS', '62'],\n",
       " ['NYC', '2022-10-30', '2022-10-29 1:28', 'foreca', '59'],\n",
       " ['NYC', '2022-10-29', '2022-10-28 23:00', 'TWC', '60'],\n",
       " ['NYC', '2022-10-29', '2022-10-28 23:00', 'Accuweather', '61'],\n",
       " ['NYC', '2022-10-29', '2022-10-28 23:00', 'NWS', '61'],\n",
       " ['NYC', '2022-10-29', '2022-10-28 23:00', 'foreca', ''],\n",
       " ['NYC', '2022-10-28', '2022-10-27 22:27', 'TWC', '56'],\n",
       " ['NYC', '2022-10-28', '2022-10-27 22:27', 'Accuweather', '58'],\n",
       " ['NYC', '2022-10-28', '2022-10-27 22:27', 'NWS', '57'],\n",
       " ['NYC', '2022-10-28', '2022-10-27 22:27', 'foreca', '61'],\n",
       " ['NYC', '2022-10-27', '2022-10-26 22:00', 'TWC', '63'],\n",
       " ['NYC', '2022-10-27', '2022-10-26 22:00', 'Accuweather', '66'],\n",
       " ['NYC', '2022-10-27', '2022-10-26 22:00', 'foreca', '63'],\n",
       " ['NYC', '2022-10-27', '2022-10-26 22:00', 'NWS', '64'],\n",
       " ['NYC', '2022-10-26', '2022-10-25 22:00', 'TWC', '68'],\n",
       " ['NYC', '2022-10-26', '2022-10-25 22:00', 'Accuweather', '70'],\n",
       " ['NYC', '2022-10-26', '2022-10-25 22:00', 'foreca', '70'],\n",
       " ['NYC', '2022-10-26', '2022-10-25 22:00', 'NWS', '69'],\n",
       " ['NYC', '2022-10-15', '2022-10-14 22:09', 'TWC', '69'],\n",
       " ['NYC', '2022-10-15', '2022-10-14 22:09', 'Accuweather', '69'],\n",
       " ['NYC', '2022-10-15', '2022-10-14 22:09', 'foreca', '66'],\n",
       " ['NYC', '2022-10-15', '2022-10-14 22:09', 'NWS', '69'],\n",
       " ['NYC', '2022-10-16', '2022-10-15 22:45', 'Accuweather', '66'],\n",
       " ['NYC', '2022-10-16', '2022-10-15 22:45', 'TWC', '65'],\n",
       " ['NYC', '2022-10-16', '2022-10-15 22:45', 'foreca', '68'],\n",
       " ['NYC', '2022-10-16', '2022-10-15 22:45', 'NWS', '66'],\n",
       " ['NYC', '2022-10-17', '2022-10-16 22:00', 'TWC', '66'],\n",
       " ['NYC', '2022-10-17', '2022-10-16 22:00', 'Accuweather', '65'],\n",
       " ['NYC', '2022-10-17', '2022-10-16 22:00', 'foreca', '64'],\n",
       " ['NYC', '2022-10-17', '2022-10-16 22:00', 'NWS', '66'],\n",
       " ['NYC', '2022-10-18', '2022-10-17 23:15', 'TWC', '56'],\n",
       " ['NYC', '2022-10-18', '2022-10-17 23:15', 'Accuweather', '56'],\n",
       " ['NYC', '2022-10-18', '2022-10-17 23:15', 'foreca', '55'],\n",
       " ['NYC', '2022-10-18', '2022-10-17 23:15', 'NWS', '56'],\n",
       " ['NYC', '2022-10-23', '2022-10-22 23:18', 'TWC', '61'],\n",
       " ['NYC', '2022-10-23', '2022-10-22 23:18', 'Accuweather', '61'],\n",
       " ['NYC', '2022-10-23', '2022-10-22 23:18', 'foreca', '61'],\n",
       " ['NYC', '2022-10-23', '2022-10-22 23:18', 'NWS', '62'],\n",
       " ['NYC', '2022-10-24', '2022-10-23 22:30', 'TWC', '62'],\n",
       " ['NYC', '2022-10-24', '2022-10-23 22:30', 'Accuweather', '65'],\n",
       " ['NYC', '2022-10-24', '2022-10-23 22:30', 'foreca', '63'],\n",
       " ['NYC', '2022-10-24', '2022-10-23 22:30', 'NWS', '64'],\n",
       " ['NYC', '2022-10-25', '2022-10-24 21:29', 'TWC', '68'],\n",
       " ['NYC', '2022-10-25', '2022-10-24 21:29', 'Accuweather', '69'],\n",
       " ['NYC', '2022-10-25', '2022-10-24 21:29', 'foreca', '68'],\n",
       " ['NYC', '2022-10-25', '2022-10-24 21:29', 'NWS', '70']]"
      ]
     },
     "execution_count": 7,
     "metadata": {},
     "output_type": "execute_result"
    }
   ],
   "source": [
    "old_date = \"\"\n",
    "old_time = \"\"\n",
    "city = \"NYC\"\n",
    "to_write = []\n",
    "\n",
    "for row in to_do:\n",
    "    \n",
    "    if not row[2] or row[2]=='Actual':\n",
    "        continue\n",
    "    \n",
    "    to_write_dummy=[city]\n",
    "    \n",
    "    if not row[0]:\n",
    "        use_date = old_date\n",
    "    else:\n",
    "        use_date =  old_date = date_processor(row[0])\n",
    "        \n",
    "    to_write_dummy.append(use_date)\n",
    "        \n",
    "    # get time from day before\n",
    "    \n",
    "    if not row[1]:\n",
    "        use_time = old_time\n",
    "    else:\n",
    "        proc_time = time_processor(row[1])\n",
    "        datetime_date = datetime.strptime(use_date, \"%Y-%m-%d\")\n",
    "        day_of_prediction = datetime_date - timedelta(1)\n",
    "        use_time = old_time = day_of_prediction.strftime(\"%Y-%m-%d\") + \" \" + proc_time\n",
    "   \n",
    "    to_write_dummy.append(use_time)\n",
    "    \n",
    "    # platform\n",
    "    plats = (\"NWS\", \"TWC\", \"Accuweather\", \"foreca\")\n",
    "    resolver = {\n",
    "        \"Foreca\":\"foreca\",\n",
    "        \"Acc\":\"Accuweather\",\n",
    "        \"Accu\":\"Accuweather\",\n",
    "        \"Foreca\":\"foreca\"\n",
    "    }\n",
    "    \n",
    "    if row[2] not in plats:\n",
    "        to_write_dummy.append(resolver[row[2]])\n",
    "    else:\n",
    "        to_write_dummy.append(row[2])\n",
    "        \n",
    "    to_write_dummy.append(row[3])\n",
    "    \n",
    "    to_write.append(to_write_dummy)\n",
    "    \n",
    "to_write"
   ]
  },
  {
   "cell_type": "code",
   "execution_count": 8,
   "id": "9513e998",
   "metadata": {},
   "outputs": [],
   "source": [
    "database.write_rows(to_write)"
   ]
  },
  {
   "cell_type": "code",
   "execution_count": 9,
   "id": "be203c5e",
   "metadata": {},
   "outputs": [
    {
     "data": {
      "text/plain": [
       "True"
      ]
     },
     "execution_count": 9,
     "metadata": {},
     "output_type": "execute_result"
    }
   ],
   "source": [
    "paaath = utils.root_path / \"data\" / \"data.db\"\n",
    "paaath.exists()"
   ]
  },
  {
   "cell_type": "markdown",
   "id": "21766708",
   "metadata": {},
   "source": [
    "## Chicago"
   ]
  },
  {
   "cell_type": "code",
   "execution_count": 18,
   "id": "b060fb65",
   "metadata": {},
   "outputs": [
    {
     "data": {
      "text/plain": [
       "[['4/11/2022', '22:26', 'TWC', '72'],\n",
       " ['', '', 'Accuweather', '71'],\n",
       " ['', '', 'NWS', '72'],\n",
       " ['', '', 'foreca', '70'],\n",
       " ['', '', '', ''],\n",
       " ['3/11/2022', '23:19', 'TWC', '75'],\n",
       " ['', '', 'Accuweather', '73'],\n",
       " ['', '', 'NWS', '75'],\n",
       " ['', '', 'foreca', '72'],\n",
       " ['', '', '', ''],\n",
       " ['2/11/2022', '22:00', 'TWC', '72'],\n",
       " ['', '', 'Accuweather', '70'],\n",
       " ['', '', 'NWS', '70'],\n",
       " ['', '', 'foreca', '72'],\n",
       " ['', '', '', ''],\n",
       " ['1/11/2022', '20:22', 'TWC', '70'],\n",
       " ['', '', 'Accuweather', '69'],\n",
       " ['', '', 'NWS', '67'],\n",
       " ['', '', 'foreca', '68'],\n",
       " ['', '', '', ''],\n",
       " ['31/10/2022', '22:16', 'NWS', '58'],\n",
       " ['', '', 'Accuweather', '61'],\n",
       " ['', '', 'TWC', '60'],\n",
       " ['', '', 'Foreca', '61'],\n",
       " ['', '', '', ''],\n",
       " ['30/10/2022', '1:31', 'NWS', '62'],\n",
       " ['', '', 'Accuweather', '63'],\n",
       " ['', '', 'TWC', '65'],\n",
       " ['', '', 'Foreca', '59'],\n",
       " ['', '', '', ''],\n",
       " ['29/10/2022', '23', 'NWS', '63'],\n",
       " ['', '', 'Accuweather', '65'],\n",
       " ['', '', 'TWC', '66'],\n",
       " ['', '', 'Foreca', '64'],\n",
       " ['', '', '', ''],\n",
       " ['28/10/2022', '22:30', 'NWS', '60'],\n",
       " ['', '', 'Accuweather', '61'],\n",
       " ['', '', 'TWC', '60'],\n",
       " ['', '', 'Foreca', '61'],\n",
       " ['', '', '', ''],\n",
       " ['27/10/2022', '22', 'NWS', '54'],\n",
       " ['', '', 'Accuweather', '58'],\n",
       " ['', '', 'TWC', '56'],\n",
       " ['', '', 'Foreca', '57'],\n",
       " ['', '', '', ''],\n",
       " ['26/10/2022', '22:00', 'NWS', '55'],\n",
       " ['', '', 'Accuweather', '57'],\n",
       " ['', '', 'TWC', '57'],\n",
       " ['', '', 'Foreca', '57'],\n",
       " ['', '', '', ''],\n",
       " ['15/10/2022', '22:15', 'nws', '52'],\n",
       " ['', '', 'Accuweather', '54'],\n",
       " ['', '', 'TWC', '57'],\n",
       " ['', '', 'Foreca', '55'],\n",
       " ['', '', 'Actual', '55'],\n",
       " ['16/10/2022', '22:45', 'nws', '54'],\n",
       " ['', '', 'foreca', '55'],\n",
       " ['', '', 'TWC', '57'],\n",
       " ['', '', 'Accuweather', '57'],\n",
       " ['', '', 'Actual', '57'],\n",
       " ['17/10/2022', '21:52', 'nws', '41'],\n",
       " ['', '', 'Accuweather', '42'],\n",
       " ['', '', 'TWC', '44'],\n",
       " ['', '', 'foreca', '41'],\n",
       " ['', '', '', '45'],\n",
       " ['18/10/2022', '23:15', 'nws', '47'],\n",
       " ['', '', 'Accuweather', '45'],\n",
       " ['', '', 'TWC', '48'],\n",
       " ['', '', 'Foreca', '46'],\n",
       " ['', '', 'Actual', '50'],\n",
       " ['23/10/2022', '23:26', 'NWS', '77'],\n",
       " ['', '', 'Accuweather', '77'],\n",
       " ['', '', 'TWC', '80'],\n",
       " ['', '', 'Foreca', '79'],\n",
       " ['', '', '', '81'],\n",
       " ['24/10/2022', '22:30', 'NWS', '75'],\n",
       " ['', '', 'Accuweather', '76'],\n",
       " ['', '', 'TWC', '78'],\n",
       " ['', '', '', ''],\n",
       " ['', '', '', '79'],\n",
       " ['25/10/2022', '21:31', 'NWS', '62'],\n",
       " ['', '', 'Accuweather', '65'],\n",
       " ['', '', 'TWC', '66'],\n",
       " ['', '', '', '71']]"
      ]
     },
     "execution_count": 18,
     "metadata": {},
     "output_type": "execute_result"
    }
   ],
   "source": [
    "with open(\"../data/CHI - Next Day High - Sheet1.csv\") as b:\n",
    "    \n",
    "    csv_file = csv.reader(b)\n",
    "    \n",
    "    to_do = [i for i in csv_file][1:]\n",
    "    \n",
    "to_do"
   ]
  },
  {
   "cell_type": "code",
   "execution_count": 22,
   "id": "f06c7b00",
   "metadata": {},
   "outputs": [],
   "source": [
    "def create_list(city, to_do):\n",
    "    old_date = \"\"\n",
    "    old_time = \"\"\n",
    "    to_write = []\n",
    "\n",
    "    for row in to_do:\n",
    "\n",
    "        if not row[2] or row[2]=='Actual':\n",
    "            continue\n",
    "\n",
    "        to_write_dummy=[city]\n",
    "\n",
    "        if not row[0]:\n",
    "            use_date = old_date\n",
    "        else:\n",
    "            use_date =  old_date = date_processor(row[0])\n",
    "\n",
    "        to_write_dummy.append(use_date)\n",
    "\n",
    "        # get time from day before\n",
    "\n",
    "        if not row[1]:\n",
    "            use_time = old_time\n",
    "        else:\n",
    "            proc_time = time_processor(row[1])\n",
    "            datetime_date = datetime.strptime(use_date, \"%Y-%m-%d\")\n",
    "            day_of_prediction = datetime_date - timedelta(1)\n",
    "            use_time = old_time = day_of_prediction.strftime(\"%Y-%m-%d\") + \" \" + proc_time\n",
    "\n",
    "        to_write_dummy.append(use_time)\n",
    "\n",
    "        # platform\n",
    "        plats = (\"NWS\", \"TWC\", \"Accuweather\", \"foreca\")\n",
    "        resolver = {\n",
    "            \"Foreca\":\"foreca\",\n",
    "            \"Acc\":\"Accuweather\",\n",
    "            \"Accu\":\"Accuweather\",\n",
    "            \"Foreca\":\"foreca\",\n",
    "            \"nws\":\"NWS\"\n",
    "        }\n",
    "\n",
    "        if row[2] not in plats:\n",
    "            to_write_dummy.append(resolver[row[2]])\n",
    "        else:\n",
    "            to_write_dummy.append(row[2])\n",
    "\n",
    "        to_write_dummy.append(row[3])\n",
    "\n",
    "        to_write.append(to_write_dummy)\n",
    "        \n",
    "    return(to_write)"
   ]
  },
  {
   "cell_type": "code",
   "execution_count": 24,
   "id": "4afc4d53",
   "metadata": {},
   "outputs": [],
   "source": [
    "to_write = create_list(\"CHI\", to_do)"
   ]
  },
  {
   "cell_type": "code",
   "execution_count": 25,
   "id": "89c930e6",
   "metadata": {},
   "outputs": [],
   "source": [
    "database.write_rows(to_write)"
   ]
  }
 ],
 "metadata": {
  "kernelspec": {
   "display_name": "Python (weather)",
   "language": "python",
   "name": "weather"
  },
  "language_info": {
   "codemirror_mode": {
    "name": "ipython",
    "version": 3
   },
   "file_extension": ".py",
   "mimetype": "text/x-python",
   "name": "python",
   "nbconvert_exporter": "python",
   "pygments_lexer": "ipython3",
   "version": "3.8.10"
  }
 },
 "nbformat": 4,
 "nbformat_minor": 5
}
