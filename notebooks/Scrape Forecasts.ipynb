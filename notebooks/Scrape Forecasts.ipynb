{
 "cells": [
  {
   "cell_type": "code",
   "execution_count": 44,
   "id": "e4a9a54f",
   "metadata": {},
   "outputs": [],
   "source": [
    "from time import sleep\n",
    "from datetime import date, timedelta, datetime\n",
    "\n",
    "from selenium import webdriver\n",
    "from selenium.webdriver.common.by import By"
   ]
  },
  {
   "cell_type": "code",
   "execution_count": 36,
   "id": "f18548f4",
   "metadata": {},
   "outputs": [],
   "source": [
    "today = str(date.today())\n"
   ]
  },
  {
   "cell_type": "code",
   "execution_count": 47,
   "id": "c26e7671",
   "metadata": {},
   "outputs": [
    {
     "data": {
      "text/plain": [
       "'2022-10-26 22:28:36.698275'"
      ]
     },
     "execution_count": 47,
     "metadata": {},
     "output_type": "execute_result"
    }
   ],
   "source": [
    "now = str(datetime.now())\n",
    "now"
   ]
  },
  {
   "cell_type": "code",
   "execution_count": 41,
   "id": "da0cbfb7",
   "metadata": {},
   "outputs": [],
   "source": [
    "tomorrow = str(date.today() + timedelta(days=1))"
   ]
  },
  {
   "cell_type": "code",
   "execution_count": 4,
   "id": "d62af448",
   "metadata": {},
   "outputs": [
    {
     "data": {
      "text/plain": [
       "'\\nmake it headless\\nfrom selenium import webdriver\\nfrom selenium.webdriver.chrome.options import Options\\n  \\n# instance of Options class allows\\n# us to configure Headless Chrome\\noptions = Options()\\n  \\n# this parameter tells Chrome that\\n# it should be run without UI (Headless)\\noptions.headless = True\\n  \\n# initializing webdriver for Chrome with our options\\ndriver = webdriver.Chrome(options=options)'"
      ]
     },
     "execution_count": 4,
     "metadata": {},
     "output_type": "execute_result"
    }
   ],
   "source": [
    "\"\"\"\n",
    "make it headless\n",
    "from selenium import webdriver\n",
    "from selenium.webdriver.chrome.options import Options\n",
    "  \n",
    "# instance of Options class allows\n",
    "# us to configure Headless Chrome\n",
    "options = Options()\n",
    "  \n",
    "# this parameter tells Chrome that\n",
    "# it should be run without UI (Headless)\n",
    "options.headless = True\n",
    "  \n",
    "# initializing webdriver for Chrome with our options\n",
    "driver = webdriver.Chrome(options=options)\"\"\""
   ]
  },
  {
   "cell_type": "code",
   "execution_count": 26,
   "id": "dc77f4a5",
   "metadata": {},
   "outputs": [],
   "source": [
    "def degree_cleaner(to_clean):\n",
    "    if to_clean[len(to_clean)-1] == \"°\":\n",
    "        return to_clean[:-1]\n",
    "    else:\n",
    "        return to_clean"
   ]
  },
  {
   "cell_type": "markdown",
   "id": "fb27aae5",
   "metadata": {},
   "source": [
    "## Headers = city, prediction_date, time_now, service, temp"
   ]
  },
  {
   "cell_type": "code",
   "execution_count": 49,
   "id": "b061fcce",
   "metadata": {},
   "outputs": [
    {
     "name": "stderr",
     "output_type": "stream",
     "text": [
      "/tmp/ipykernel_57832/2287923520.py:3: DeprecationWarning: executable_path has been deprecated, please pass in a Service object\n",
      "  driver = webdriver.Chrome(executable_path=\"/home/heath/bin/chromedriver\")\n"
     ]
    },
    {
     "name": "stdout",
     "output_type": "stream",
     "text": [
      "[['NYC', '2022-10-27', '2022-10-26 22:28:36.698275', 'TWC', '63']]\n"
     ]
    }
   ],
   "source": [
    "to_write = []\n",
    "\n",
    "driver = webdriver.Chrome(executable_path=\"/home/heath/bin/chromedriver\")\n",
    "\n",
    "driver.implicitly_wait(15)\n",
    "\n",
    "# TWC NYC\n",
    "driver.get(\"https://weather.com/weather/tenday/l/10035:4:US\")\n",
    "k = driver.find_elements(By.XPATH, \"/html/body/div[1]/main/div[2]/main/div[1]/section/div[2]/details[2]/summary/div/div/div[1]/span[1]\")\n",
    "\n",
    "temp = degree_cleaner(k[0].text)\n",
    "\n",
    "to_write.append([\"NYC\", tomorrow, now, \"TWC\", temp])\n",
    "\n",
    "# Accuweather NYC\n",
    "driver.get(\"https://www.accuweather.com/en/us/central-park/10028/daily-weather-forecast/2627448?day=2\")\n",
    "\n",
    "sleep(3)\n",
    "\n",
    "driver.close()\n",
    "\n",
    "print(to_write)"
   ]
  }
 ],
 "metadata": {
  "kernelspec": {
   "display_name": "Python (weather)",
   "language": "python",
   "name": "weather"
  },
  "language_info": {
   "codemirror_mode": {
    "name": "ipython",
    "version": 3
   },
   "file_extension": ".py",
   "mimetype": "text/x-python",
   "name": "python",
   "nbconvert_exporter": "python",
   "pygments_lexer": "ipython3",
   "version": "3.8.10"
  }
 },
 "nbformat": 4,
 "nbformat_minor": 5
}
