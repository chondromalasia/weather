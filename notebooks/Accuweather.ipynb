{
 "cells": [
  {
   "cell_type": "markdown",
   "id": "635e0fa9",
   "metadata": {},
   "source": [
    "# Just seeing what accuweather can do for us"
   ]
  },
  {
   "cell_type": "code",
   "execution_count": 1,
   "id": "94b66325",
   "metadata": {},
   "outputs": [],
   "source": [
    "import configparser\n",
    "import requests\n",
    "from time import sleep"
   ]
  },
  {
   "cell_type": "code",
   "execution_count": 2,
   "id": "71ee5fd1",
   "metadata": {},
   "outputs": [
    {
     "data": {
      "text/plain": [
       "['../config']"
      ]
     },
     "execution_count": 2,
     "metadata": {},
     "output_type": "execute_result"
    }
   ],
   "source": [
    "config = configparser.ConfigParser()\n",
    "config.read(\"../config\")\n"
   ]
  },
  {
   "cell_type": "code",
   "execution_count": 3,
   "id": "14b9584f",
   "metadata": {},
   "outputs": [],
   "source": [
    "key = config[\"accuweather\"][\"api_key\"]"
   ]
  },
  {
   "cell_type": "markdown",
   "id": "cfa0b02f",
   "metadata": {},
   "source": [
    "## First get the location key for central park"
   ]
  },
  {
   "cell_type": "code",
   "execution_count": 5,
   "id": "97a6aa28",
   "metadata": {},
   "outputs": [],
   "source": [
    "to_search = \"central park\""
   ]
  },
  {
   "cell_type": "code",
   "execution_count": 6,
   "id": "cf9a62d0",
   "metadata": {},
   "outputs": [],
   "source": [
    "url = f\"http://dataservice.accuweather.com/locations/v1/search?apikey={key}&q={to_search}\""
   ]
  },
  {
   "cell_type": "code",
   "execution_count": 7,
   "id": "8dd37068",
   "metadata": {},
   "outputs": [],
   "source": [
    "x = requests.get(url)"
   ]
  },
  {
   "cell_type": "code",
   "execution_count": 8,
   "id": "339da503",
   "metadata": {},
   "outputs": [
    {
     "data": {
      "text/plain": [
       "200"
      ]
     },
     "execution_count": 8,
     "metadata": {},
     "output_type": "execute_result"
    }
   ],
   "source": [
    "x.status_code"
   ]
  },
  {
   "cell_type": "code",
   "execution_count": 9,
   "id": "1071e1f5",
   "metadata": {},
   "outputs": [],
   "source": [
    "resp = x.json()"
   ]
  },
  {
   "cell_type": "code",
   "execution_count": 10,
   "id": "33adb284",
   "metadata": {},
   "outputs": [],
   "source": [
    "central_park = resp[0]"
   ]
  },
  {
   "cell_type": "code",
   "execution_count": 11,
   "id": "95fdd39f",
   "metadata": {},
   "outputs": [],
   "source": [
    "loc_key = central_park['Key']"
   ]
  },
  {
   "cell_type": "markdown",
   "id": "ecf5a986",
   "metadata": {},
   "source": [
    "## Okay let's get conditions"
   ]
  },
  {
   "cell_type": "code",
   "execution_count": 12,
   "id": "9004e0ee",
   "metadata": {},
   "outputs": [],
   "source": [
    "cond_url = f\"http://dataservice.accuweather.com/currentconditions/v1/{loc_key}?apikey={key}&details=true\""
   ]
  },
  {
   "cell_type": "code",
   "execution_count": 13,
   "id": "7a6c03ea",
   "metadata": {},
   "outputs": [],
   "source": [
    "x = requests.get(cond_url)"
   ]
  },
  {
   "cell_type": "code",
   "execution_count": 14,
   "id": "4a864173",
   "metadata": {},
   "outputs": [
    {
     "data": {
      "text/plain": [
       "200"
      ]
     },
     "execution_count": 14,
     "metadata": {},
     "output_type": "execute_result"
    }
   ],
   "source": [
    "x.status_code"
   ]
  },
  {
   "cell_type": "code",
   "execution_count": 15,
   "id": "542629cb",
   "metadata": {},
   "outputs": [],
   "source": [
    "ny_cond = x.json()"
   ]
  },
  {
   "cell_type": "code",
   "execution_count": 16,
   "id": "075227b1",
   "metadata": {},
   "outputs": [
    {
     "data": {
      "text/plain": [
       "{'LocalObservationDateTime': '2022-04-13T11:58:00-04:00',\n",
       " 'EpochTime': 1649865480,\n",
       " 'WeatherText': 'Sunny',\n",
       " 'WeatherIcon': 1,\n",
       " 'HasPrecipitation': False,\n",
       " 'PrecipitationType': None,\n",
       " 'IsDayTime': True,\n",
       " 'Temperature': {'Metric': {'Value': 19.4, 'Unit': 'C', 'UnitType': 17},\n",
       "  'Imperial': {'Value': 67.0, 'Unit': 'F', 'UnitType': 18}},\n",
       " 'RealFeelTemperature': {'Metric': {'Value': 24.5,\n",
       "   'Unit': 'C',\n",
       "   'UnitType': 17,\n",
       "   'Phrase': 'Pleasant'},\n",
       "  'Imperial': {'Value': 76.0,\n",
       "   'Unit': 'F',\n",
       "   'UnitType': 18,\n",
       "   'Phrase': 'Pleasant'}},\n",
       " 'RealFeelTemperatureShade': {'Metric': {'Value': 18.4,\n",
       "   'Unit': 'C',\n",
       "   'UnitType': 17,\n",
       "   'Phrase': 'Pleasant'},\n",
       "  'Imperial': {'Value': 65.0,\n",
       "   'Unit': 'F',\n",
       "   'UnitType': 18,\n",
       "   'Phrase': 'Pleasant'}},\n",
       " 'RelativeHumidity': 40,\n",
       " 'IndoorRelativeHumidity': 39,\n",
       " 'DewPoint': {'Metric': {'Value': 5.6, 'Unit': 'C', 'UnitType': 17},\n",
       "  'Imperial': {'Value': 42.0, 'Unit': 'F', 'UnitType': 18}},\n",
       " 'Wind': {'Direction': {'Degrees': 0, 'Localized': 'N', 'English': 'N'},\n",
       "  'Speed': {'Metric': {'Value': 5.6, 'Unit': 'km/h', 'UnitType': 7},\n",
       "   'Imperial': {'Value': 3.5, 'Unit': 'mi/h', 'UnitType': 9}}},\n",
       " 'WindGust': {'Speed': {'Metric': {'Value': 14.1,\n",
       "    'Unit': 'km/h',\n",
       "    'UnitType': 7},\n",
       "   'Imperial': {'Value': 8.7, 'Unit': 'mi/h', 'UnitType': 9}}},\n",
       " 'UVIndex': 6,\n",
       " 'UVIndexText': 'High',\n",
       " 'Visibility': {'Metric': {'Value': 16.1, 'Unit': 'km', 'UnitType': 6},\n",
       "  'Imperial': {'Value': 10.0, 'Unit': 'mi', 'UnitType': 2}},\n",
       " 'ObstructionsToVisibility': '',\n",
       " 'CloudCover': 10,\n",
       " 'Ceiling': {'Metric': {'Value': 12192.0, 'Unit': 'm', 'UnitType': 5},\n",
       "  'Imperial': {'Value': 40000.0, 'Unit': 'ft', 'UnitType': 0}},\n",
       " 'Pressure': {'Metric': {'Value': 1017.5, 'Unit': 'mb', 'UnitType': 14},\n",
       "  'Imperial': {'Value': 30.05, 'Unit': 'inHg', 'UnitType': 12}},\n",
       " 'PressureTendency': {'LocalizedText': 'Steady', 'Code': 'S'},\n",
       " 'Past24HourTemperatureDeparture': {'Metric': {'Value': 8.9,\n",
       "   'Unit': 'C',\n",
       "   'UnitType': 17},\n",
       "  'Imperial': {'Value': 16.0, 'Unit': 'F', 'UnitType': 18}},\n",
       " 'ApparentTemperature': {'Metric': {'Value': 18.9,\n",
       "   'Unit': 'C',\n",
       "   'UnitType': 17},\n",
       "  'Imperial': {'Value': 66.0, 'Unit': 'F', 'UnitType': 18}},\n",
       " 'WindChillTemperature': {'Metric': {'Value': 19.4,\n",
       "   'Unit': 'C',\n",
       "   'UnitType': 17},\n",
       "  'Imperial': {'Value': 67.0, 'Unit': 'F', 'UnitType': 18}},\n",
       " 'WetBulbTemperature': {'Metric': {'Value': 11.9, 'Unit': 'C', 'UnitType': 17},\n",
       "  'Imperial': {'Value': 53.0, 'Unit': 'F', 'UnitType': 18}},\n",
       " 'Precip1hr': {'Metric': {'Value': 0.0, 'Unit': 'mm', 'UnitType': 3},\n",
       "  'Imperial': {'Value': 0.0, 'Unit': 'in', 'UnitType': 1}},\n",
       " 'PrecipitationSummary': {'Precipitation': {'Metric': {'Value': 0.0,\n",
       "    'Unit': 'mm',\n",
       "    'UnitType': 3},\n",
       "   'Imperial': {'Value': 0.0, 'Unit': 'in', 'UnitType': 1}},\n",
       "  'PastHour': {'Metric': {'Value': 0.0, 'Unit': 'mm', 'UnitType': 3},\n",
       "   'Imperial': {'Value': 0.0, 'Unit': 'in', 'UnitType': 1}},\n",
       "  'Past3Hours': {'Metric': {'Value': 0.0, 'Unit': 'mm', 'UnitType': 3},\n",
       "   'Imperial': {'Value': 0.0, 'Unit': 'in', 'UnitType': 1}},\n",
       "  'Past6Hours': {'Metric': {'Value': 0.0, 'Unit': 'mm', 'UnitType': 3},\n",
       "   'Imperial': {'Value': 0.0, 'Unit': 'in', 'UnitType': 1}},\n",
       "  'Past9Hours': {'Metric': {'Value': 0.0, 'Unit': 'mm', 'UnitType': 3},\n",
       "   'Imperial': {'Value': 0.0, 'Unit': 'in', 'UnitType': 1}},\n",
       "  'Past12Hours': {'Metric': {'Value': 0.0, 'Unit': 'mm', 'UnitType': 3},\n",
       "   'Imperial': {'Value': 0.0, 'Unit': 'in', 'UnitType': 1}},\n",
       "  'Past18Hours': {'Metric': {'Value': 0.0, 'Unit': 'mm', 'UnitType': 3},\n",
       "   'Imperial': {'Value': 0.0, 'Unit': 'in', 'UnitType': 1}},\n",
       "  'Past24Hours': {'Metric': {'Value': 0.0, 'Unit': 'mm', 'UnitType': 3},\n",
       "   'Imperial': {'Value': 0.0, 'Unit': 'in', 'UnitType': 1}}},\n",
       " 'TemperatureSummary': {'Past6HourRange': {'Minimum': {'Metric': {'Value': 12.8,\n",
       "     'Unit': 'C',\n",
       "     'UnitType': 17},\n",
       "    'Imperial': {'Value': 55.0, 'Unit': 'F', 'UnitType': 18}},\n",
       "   'Maximum': {'Metric': {'Value': 19.4, 'Unit': 'C', 'UnitType': 17},\n",
       "    'Imperial': {'Value': 67.0, 'Unit': 'F', 'UnitType': 18}}},\n",
       "  'Past12HourRange': {'Minimum': {'Metric': {'Value': 12.8,\n",
       "     'Unit': 'C',\n",
       "     'UnitType': 17},\n",
       "    'Imperial': {'Value': 55.0, 'Unit': 'F', 'UnitType': 18}},\n",
       "   'Maximum': {'Metric': {'Value': 19.4, 'Unit': 'C', 'UnitType': 17},\n",
       "    'Imperial': {'Value': 67.0, 'Unit': 'F', 'UnitType': 18}}},\n",
       "  'Past24HourRange': {'Minimum': {'Metric': {'Value': 10.6,\n",
       "     'Unit': 'C',\n",
       "     'UnitType': 17},\n",
       "    'Imperial': {'Value': 51.0, 'Unit': 'F', 'UnitType': 18}},\n",
       "   'Maximum': {'Metric': {'Value': 22.2, 'Unit': 'C', 'UnitType': 17},\n",
       "    'Imperial': {'Value': 72.0, 'Unit': 'F', 'UnitType': 18}}}},\n",
       " 'MobileLink': 'http://www.accuweather.com/en/us/central-park-ny/10028/current-weather/2627448?lang=en-us',\n",
       " 'Link': 'http://www.accuweather.com/en/us/central-park-ny/10028/current-weather/2627448?lang=en-us'}"
      ]
     },
     "execution_count": 16,
     "metadata": {},
     "output_type": "execute_result"
    }
   ],
   "source": [
    "ny_cond[0]"
   ]
  },
  {
   "cell_type": "code",
   "execution_count": 49,
   "id": "16fdad49",
   "metadata": {},
   "outputs": [
    {
     "data": {
      "text/plain": [
       "'2022-04-11T12:34:00-04:00'"
      ]
     },
     "execution_count": 49,
     "metadata": {},
     "output_type": "execute_result"
    }
   ],
   "source": [
    "ny_cond[0]['LocalObservationDateTime']"
   ]
  },
  {
   "cell_type": "code",
   "execution_count": null,
   "id": "77a81835",
   "metadata": {},
   "outputs": [],
   "source": [
    "Temperature': {'Metric': {'Value': 11.7, 'Unit': 'C', 'UnitType': 17},\n",
    "  'Imperial': {'Value': 53.0, 'Unit': 'F', 'UnitType': 18}},"
   ]
  },
  {
   "cell_type": "code",
   "execution_count": 52,
   "id": "351e3209",
   "metadata": {},
   "outputs": [
    {
     "data": {
      "text/plain": [
       "53.0"
      ]
     },
     "execution_count": 52,
     "metadata": {},
     "output_type": "execute_result"
    }
   ],
   "source": [
    "ny_cond[0]['Temperature']['Imperial']['Value']"
   ]
  },
  {
   "cell_type": "code",
   "execution_count": 48,
   "id": "072308cc",
   "metadata": {},
   "outputs": [],
   "source": [
    "temps = []\n",
    "times = []"
   ]
  },
  {
   "cell_type": "code",
   "execution_count": 57,
   "id": "87d63c44",
   "metadata": {},
   "outputs": [
    {
     "name": "stdout",
     "output_type": "stream",
     "text": [
      "1\n",
      "2\n",
      "3\n",
      "4\n",
      "5\n",
      "6\n",
      "7\n",
      "8\n",
      "9\n",
      "10\n",
      "11\n",
      "12\n",
      "13\n",
      "14\n",
      "15\n",
      "16\n",
      "17\n",
      "18\n",
      "19\n",
      "20\n",
      "21\n",
      "22\n",
      "23\n",
      "24\n",
      "25\n",
      "26\n",
      "27\n",
      "28\n",
      "29\n",
      "30\n",
      "31\n",
      "32\n",
      "33\n",
      "34\n",
      "35\n",
      "36\n",
      "37\n",
      "38\n",
      "39\n",
      "40\n",
      "41\n",
      "42\n",
      "43\n"
     ]
    }
   ],
   "source": [
    "count = 0\n",
    "while True:\n",
    "    x = requests.get(cond_url)\n",
    "    if x.status_code != 200:\n",
    "        break\n",
    "    \n",
    "    ny_cond = x.json()\n",
    "    \n",
    "    temps.append(ny_cond[0]['Temperature']['Imperial']['Value'])\n",
    "    times.append(ny_cond[0]['LocalObservationDateTime'])\n",
    "    \n",
    "    count += 1\n",
    "    print(count)\n",
    "    \n",
    "    sleep(60)"
   ]
  },
  {
   "cell_type": "code",
   "execution_count": 60,
   "id": "d0ad816e",
   "metadata": {},
   "outputs": [
    {
     "name": "stdout",
     "output_type": "stream",
     "text": [
      "2022-04-11T13:18:00-04:00: 56.0\n",
      "2022-04-11T13:18:00-04:00: 56.0\n",
      "2022-04-11T13:18:00-04:00: 56.0\n",
      "2022-04-11T13:53:00-04:00: 56.0\n",
      "2022-04-11T13:53:00-04:00: 56.0\n",
      "2022-04-11T13:53:00-04:00: 56.0\n",
      "2022-04-11T13:53:00-04:00: 56.0\n",
      "2022-04-11T13:53:00-04:00: 56.0\n",
      "2022-04-11T13:53:00-04:00: 56.0\n",
      "2022-04-11T13:58:00-04:00: 56.0\n",
      "2022-04-11T13:58:00-04:00: 56.0\n",
      "2022-04-11T13:58:00-04:00: 56.0\n",
      "2022-04-11T13:58:00-04:00: 56.0\n",
      "2022-04-11T13:58:00-04:00: 56.0\n",
      "2022-04-11T14:04:00-04:00: 57.0\n",
      "2022-04-11T14:04:00-04:00: 57.0\n",
      "2022-04-11T14:04:00-04:00: 57.0\n",
      "2022-04-11T14:04:00-04:00: 57.0\n",
      "2022-04-11T14:04:00-04:00: 57.0\n",
      "2022-04-11T14:08:00-04:00: 57.0\n",
      "2022-04-11T14:08:00-04:00: 57.0\n",
      "2022-04-11T14:08:00-04:00: 57.0\n",
      "2022-04-11T14:08:00-04:00: 57.0\n",
      "2022-04-11T14:08:00-04:00: 57.0\n",
      "2022-04-11T14:08:00-04:00: 57.0\n",
      "2022-04-11T14:08:00-04:00: 57.0\n",
      "2022-04-11T14:13:00-04:00: 57.0\n",
      "2022-04-11T14:13:00-04:00: 57.0\n",
      "2022-04-11T14:13:00-04:00: 57.0\n",
      "2022-04-11T14:13:00-04:00: 57.0\n",
      "2022-04-11T14:19:00-04:00: 57.0\n",
      "2022-04-11T14:19:00-04:00: 57.0\n",
      "2022-04-11T14:19:00-04:00: 57.0\n",
      "2022-04-11T14:19:00-04:00: 57.0\n",
      "2022-04-11T14:23:00-04:00: 57.0\n",
      "2022-04-11T14:23:00-04:00: 57.0\n",
      "2022-04-11T14:23:00-04:00: 57.0\n",
      "2022-04-11T14:23:00-04:00: 57.0\n",
      "2022-04-11T14:23:00-04:00: 57.0\n",
      "2022-04-11T14:28:00-04:00: 57.0\n",
      "2022-04-11T14:28:00-04:00: 57.0\n",
      "2022-04-11T14:28:00-04:00: 57.0\n",
      "2022-04-11T14:28:00-04:00: 57.0\n",
      "2022-04-11T14:28:00-04:00: 57.0\n",
      "2022-04-11T14:28:00-04:00: 57.0\n",
      "2022-04-11T14:33:00-04:00: 57.0\n"
     ]
    }
   ],
   "source": [
    "for i, j in zip(times, temps):\n",
    "    print(f\"{i}: {j}\")"
   ]
  },
  {
   "cell_type": "code",
   "execution_count": 53,
   "id": "d243316c",
   "metadata": {},
   "outputs": [
    {
     "data": {
      "text/plain": [
       "False"
      ]
     },
     "execution_count": 53,
     "metadata": {},
     "output_type": "execute_result"
    }
   ],
   "source": [
    "x.status_code != 200"
   ]
  }
 ],
 "metadata": {
  "kernelspec": {
   "display_name": "Python (weather)",
   "language": "python",
   "name": "weather"
  },
  "language_info": {
   "codemirror_mode": {
    "name": "ipython",
    "version": 3
   },
   "file_extension": ".py",
   "mimetype": "text/x-python",
   "name": "python",
   "nbconvert_exporter": "python",
   "pygments_lexer": "ipython3",
   "version": "3.8.10"
  }
 },
 "nbformat": 4,
 "nbformat_minor": 5
}
